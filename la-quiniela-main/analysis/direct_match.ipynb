{
 "cells": [
  {
   "cell_type": "code",
   "execution_count": 4,
   "id": "14acdf8d",
   "metadata": {},
   "outputs": [],
   "source": [
    "import time\n",
    "import sqlite3\n",
    "import numpy as np\n",
    "import pandas as pd\n",
    "import datetime\n",
    "from matplotlib import pyplot as plt\n",
    "from sklearn.model_selection import train_test_split\n",
    "from sklearn.linear_model import LogisticRegression\n",
    "from sklearn.linear_model import LinearRegression\n",
    "from sklearn.tree import DecisionTreeClassifier\n",
    "from sklearn.naive_bayes import GaussianNB\n",
    "from sklearn.naive_bayes import MultinomialNB\n",
    "from sklearn.metrics import confusion_matrix,classification_report  #conf matrix\n",
    "import seaborn as sns #conf matrix\n",
    "from sklearn.svm import SVC\n",
    "from sklearn.ensemble import RandomForestClassifier\n",
    "from sklearn.feature_selection import chi2\n",
    "from time import time\n",
    "import datetime\n",
    "import warnings\n",
    "warnings.filterwarnings(\"ignore\")\n",
    "from sklearn.metrics import f1_score\n",
    "\n",
    "#from utils import mean_absolute_percentage_error"
   ]
  },
  {
   "cell_type": "markdown",
   "id": "0ac2ee38",
   "metadata": {},
   "source": [
    "# LOAD DATA"
   ]
  },
  {
   "cell_type": "code",
   "execution_count": 5,
   "id": "43235c21",
   "metadata": {},
   "outputs": [
    {
     "data": {
      "text/html": [
       "<div>\n",
       "<style scoped>\n",
       "    .dataframe tbody tr th:only-of-type {\n",
       "        vertical-align: middle;\n",
       "    }\n",
       "\n",
       "    .dataframe tbody tr th {\n",
       "        vertical-align: top;\n",
       "    }\n",
       "\n",
       "    .dataframe thead th {\n",
       "        text-align: right;\n",
       "    }\n",
       "</style>\n",
       "<table border=\"1\" class=\"dataframe\">\n",
       "  <thead>\n",
       "    <tr style=\"text-align: right;\">\n",
       "      <th></th>\n",
       "      <th>season</th>\n",
       "      <th>division</th>\n",
       "      <th>matchday</th>\n",
       "      <th>date</th>\n",
       "      <th>time</th>\n",
       "      <th>home_team</th>\n",
       "      <th>away_team</th>\n",
       "      <th>score</th>\n",
       "    </tr>\n",
       "  </thead>\n",
       "  <tbody>\n",
       "    <tr>\n",
       "      <th>0</th>\n",
       "      <td>1928-1929</td>\n",
       "      <td>1</td>\n",
       "      <td>1</td>\n",
       "      <td>2/10/29</td>\n",
       "      <td>None</td>\n",
       "      <td>Arenas Club</td>\n",
       "      <td>Athletic Madrid</td>\n",
       "      <td>2:3</td>\n",
       "    </tr>\n",
       "    <tr>\n",
       "      <th>1</th>\n",
       "      <td>1928-1929</td>\n",
       "      <td>1</td>\n",
       "      <td>1</td>\n",
       "      <td>2/10/29</td>\n",
       "      <td>None</td>\n",
       "      <td>Espanyol</td>\n",
       "      <td>Real Unión</td>\n",
       "      <td>3:2</td>\n",
       "    </tr>\n",
       "    <tr>\n",
       "      <th>2</th>\n",
       "      <td>1928-1929</td>\n",
       "      <td>1</td>\n",
       "      <td>1</td>\n",
       "      <td>2/10/29</td>\n",
       "      <td>None</td>\n",
       "      <td>Real Madrid</td>\n",
       "      <td>Catalunya</td>\n",
       "      <td>5:0</td>\n",
       "    </tr>\n",
       "    <tr>\n",
       "      <th>3</th>\n",
       "      <td>1928-1929</td>\n",
       "      <td>1</td>\n",
       "      <td>1</td>\n",
       "      <td>2/10/29</td>\n",
       "      <td>None</td>\n",
       "      <td>Donostia</td>\n",
       "      <td>Athletic</td>\n",
       "      <td>1:1</td>\n",
       "    </tr>\n",
       "    <tr>\n",
       "      <th>4</th>\n",
       "      <td>1928-1929</td>\n",
       "      <td>1</td>\n",
       "      <td>1</td>\n",
       "      <td>2/12/29</td>\n",
       "      <td>None</td>\n",
       "      <td>Racing</td>\n",
       "      <td>Barcelona</td>\n",
       "      <td>0:2</td>\n",
       "    </tr>\n",
       "    <tr>\n",
       "      <th>...</th>\n",
       "      <td>...</td>\n",
       "      <td>...</td>\n",
       "      <td>...</td>\n",
       "      <td>...</td>\n",
       "      <td>...</td>\n",
       "      <td>...</td>\n",
       "      <td>...</td>\n",
       "      <td>...</td>\n",
       "    </tr>\n",
       "    <tr>\n",
       "      <th>49015</th>\n",
       "      <td>2021-2022</td>\n",
       "      <td>2</td>\n",
       "      <td>42</td>\n",
       "      <td>5/29/22</td>\n",
       "      <td>None</td>\n",
       "      <td>Real Oviedo</td>\n",
       "      <td>UD Ibiza</td>\n",
       "      <td>None</td>\n",
       "    </tr>\n",
       "    <tr>\n",
       "      <th>49016</th>\n",
       "      <td>2021-2022</td>\n",
       "      <td>2</td>\n",
       "      <td>42</td>\n",
       "      <td>5/29/22</td>\n",
       "      <td>None</td>\n",
       "      <td>Real Sociedad B</td>\n",
       "      <td>Real Zaragoza</td>\n",
       "      <td>None</td>\n",
       "    </tr>\n",
       "    <tr>\n",
       "      <th>49017</th>\n",
       "      <td>2021-2022</td>\n",
       "      <td>2</td>\n",
       "      <td>42</td>\n",
       "      <td>5/29/22</td>\n",
       "      <td>None</td>\n",
       "      <td>Sporting Gijón</td>\n",
       "      <td>UD Las Palmas</td>\n",
       "      <td>None</td>\n",
       "    </tr>\n",
       "    <tr>\n",
       "      <th>49018</th>\n",
       "      <td>2021-2022</td>\n",
       "      <td>2</td>\n",
       "      <td>42</td>\n",
       "      <td>5/29/22</td>\n",
       "      <td>None</td>\n",
       "      <td>CD Tenerife</td>\n",
       "      <td>FC Cartagena</td>\n",
       "      <td>None</td>\n",
       "    </tr>\n",
       "    <tr>\n",
       "      <th>49019</th>\n",
       "      <td>2021-2022</td>\n",
       "      <td>2</td>\n",
       "      <td>42</td>\n",
       "      <td>5/29/22</td>\n",
       "      <td>None</td>\n",
       "      <td>Real Valladolid</td>\n",
       "      <td>SD Huesca</td>\n",
       "      <td>None</td>\n",
       "    </tr>\n",
       "  </tbody>\n",
       "</table>\n",
       "<p>49020 rows × 8 columns</p>\n",
       "</div>"
      ],
      "text/plain": [
       "          season  division  matchday     date  time        home_team  \\\n",
       "0      1928-1929         1         1  2/10/29  None      Arenas Club   \n",
       "1      1928-1929         1         1  2/10/29  None         Espanyol   \n",
       "2      1928-1929         1         1  2/10/29  None      Real Madrid   \n",
       "3      1928-1929         1         1  2/10/29  None         Donostia   \n",
       "4      1928-1929         1         1  2/12/29  None           Racing   \n",
       "...          ...       ...       ...      ...   ...              ...   \n",
       "49015  2021-2022         2        42  5/29/22  None      Real Oviedo   \n",
       "49016  2021-2022         2        42  5/29/22  None  Real Sociedad B   \n",
       "49017  2021-2022         2        42  5/29/22  None   Sporting Gijón   \n",
       "49018  2021-2022         2        42  5/29/22  None      CD Tenerife   \n",
       "49019  2021-2022         2        42  5/29/22  None  Real Valladolid   \n",
       "\n",
       "             away_team score  \n",
       "0      Athletic Madrid   2:3  \n",
       "1           Real Unión   3:2  \n",
       "2            Catalunya   5:0  \n",
       "3             Athletic   1:1  \n",
       "4            Barcelona   0:2  \n",
       "...                ...   ...  \n",
       "49015         UD Ibiza  None  \n",
       "49016    Real Zaragoza  None  \n",
       "49017    UD Las Palmas  None  \n",
       "49018     FC Cartagena  None  \n",
       "49019        SD Huesca  None  \n",
       "\n",
       "[49020 rows x 8 columns]"
      ]
     },
     "execution_count": 5,
     "metadata": {},
     "output_type": "execute_result"
    }
   ],
   "source": [
    "cn = sqlite3.connect('../laliga.sqlite')\n",
    "df = pd.read_sql_query(\"SELECT * FROM Matches\", cn)\n",
    "df_aux = df\n",
    "df_aux"
   ]
  },
  {
   "cell_type": "markdown",
   "id": "26017218",
   "metadata": {},
   "source": [
    "## NEW FEATURES"
   ]
  },
  {
   "cell_type": "code",
   "execution_count": 6,
   "id": "8f23b344",
   "metadata": {},
   "outputs": [],
   "source": [
    "def parse_score(score):\n",
    "    w = ''\n",
    "    if score:\n",
    "        score = score.split(':')\n",
    "        if score[0] > score[1]:\n",
    "            w = 1\n",
    "        elif score[0] < score[1]:\n",
    "            w = 2\n",
    "        elif score[0] == score[1]:\n",
    "            w = 0\n",
    "    else:\n",
    "        w = 'Unknown'\n",
    "    return w\n",
    "\n",
    "# Match results\n",
    "scores = df_aux['score'].values\n",
    "scores = [x.split(':') if x else [-1, -1] for x in scores]\n",
    "df_aux['Result'] = df_aux['score'].apply(parse_score)"
   ]
  },
  {
   "cell_type": "code",
   "execution_count": 7,
   "id": "cb78fdd2",
   "metadata": {},
   "outputs": [],
   "source": [
    "#Home goals and away goals\n",
    "home_goals = []\n",
    "away_goals = []\n",
    "for scored_goals in scores:\n",
    "    home_goals.append(scored_goals[0])\n",
    "    away_goals.append(scored_goals[1])\n",
    "df_aux['home_goals'] = pd.to_numeric(home_goals)\n",
    "df_aux['away_goals'] = pd.to_numeric(away_goals)\n",
    "# Goal difference\n",
    "df_aux['goal_difference'] = abs(df_aux['home_goals'] - df_aux['away_goals'])\n",
    "df_aux['total_goals'] = df_aux['home_goals'] + df_aux['away_goals']"
   ]
  },
  {
   "cell_type": "code",
   "execution_count": 8,
   "id": "d05d50c2",
   "metadata": {},
   "outputs": [],
   "source": [
    "#Assigning values to each time in order of aparison\n",
    "teams = df_aux['home_team'].drop_duplicates().values\n",
    "df_aux['home_id'] = 0\n",
    "df_aux['away_id'] = 0\n",
    "df_aux\n",
    "for i in range(len(teams)):\n",
    "    df_aux.loc[df_aux['home_team'] == teams[i], ['home_id']] = i\n",
    "    df_aux.loc[df_aux['away_team'] == teams[i], ['away_id']] = i\n",
    "\n",
    "#droping unknown\n",
    "df_aux = df_aux.mask(df_aux.eq('Unknown')).dropna(subset=['Result'])\n",
    "df_aux = df_aux.mask(df_aux.eq('Unknown')).dropna(subset=['date'])\n",
    "df_aux.reset_index(drop=True, inplace=True) #reset index after droping the unknown"
   ]
  },
  {
   "cell_type": "code",
   "execution_count": 9,
   "id": "a8873049",
   "metadata": {},
   "outputs": [],
   "source": [
    "# new columns\n",
    "df_aux['FHG']= np.nan #Feature home goals (last matches)\n",
    "df_aux['FAG']= np.nan #Feature away goals (last matches)\n",
    "df_aux['FTG']= np.nan #Feature total goals (last matches)\n",
    "df_aux['FDG']= np.nan #Feature difference goals (last matches)\n",
    "df_aux['VHT']= np.nan #victories home team ( last matches)\n",
    "df_aux['VAT']= np.nan #victories away team ( last matches)"
   ]
  },
  {
   "cell_type": "code",
   "execution_count": 10,
   "id": "15c88d07",
   "metadata": {},
   "outputs": [
    {
     "name": "stdout",
     "output_type": "stream",
     "text": [
      "          season  division  matchday        date      time        home_team  \\\n",
      "0      1928-1929         1         1  1929-02-10      None      Arenas Club   \n",
      "1      1928-1929         1         1  1929-02-10      None         Espanyol   \n",
      "2      1928-1929         1         1  1929-02-10      None      Real Madrid   \n",
      "3      1928-1929         1         1  1929-02-10      None         Donostia   \n",
      "4      1928-1929         1         1  1929-02-12      None           Racing   \n",
      "...          ...       ...       ...         ...       ...              ...   \n",
      "48235  2021-2022         2         3  2021-08-28  10:00 PM     Ponferradina   \n",
      "48236  2021-2022         2         3  2021-08-29   5:00 PM    SD Amorebieta   \n",
      "48237  2021-2022         2         3  2021-08-29   7:30 PM          CD Lugo   \n",
      "48238  2021-2022         2         3  2021-08-29   7:30 PM  Real Sociedad B   \n",
      "48239  2021-2022         2         3  2021-08-29  10:00 PM        Burgos CF   \n",
      "\n",
      "             away_team score Result  home_goals  ...  goal_difference  \\\n",
      "0      Athletic Madrid   2:3      2           2  ...                1   \n",
      "1           Real Unión   3:2      1           3  ...                1   \n",
      "2            Catalunya   5:0      1           5  ...                5   \n",
      "3             Athletic   1:1      0           1  ...                0   \n",
      "4            Barcelona   0:2      2           0  ...                2   \n",
      "...                ...   ...    ...         ...  ...              ...   \n",
      "48235           Girona   2:1      1           2  ...                1   \n",
      "48236       UD Almería   2:1      1           2  ...                1   \n",
      "48237  Real Valladolid   0:2      2           0  ...                2   \n",
      "48238   CF Fuenlabrada   0:0      0           0  ...                0   \n",
      "48239         SD Eibar   0:1      2           0  ...                1   \n",
      "\n",
      "       total_goals  home_id  away_id  FHG  FAG  FTG  FDG  VHT  VAT  \n",
      "0                5        0        7  NaN  NaN  NaN  NaN  NaN  NaN  \n",
      "1                5        1        8  NaN  NaN  NaN  NaN  NaN  NaN  \n",
      "2                5        2        9  NaN  NaN  NaN  NaN  NaN  NaN  \n",
      "3                2        3        6  NaN  NaN  NaN  NaN  NaN  NaN  \n",
      "4                2        4        5  NaN  NaN  NaN  NaN  NaN  NaN  \n",
      "...            ...      ...      ...  ...  ...  ...  ...  ...  ...  \n",
      "48235            3      132       66  NaN  NaN  NaN  NaN  NaN  NaN  \n",
      "48236            3      151       62  NaN  NaN  NaN  NaN  NaN  NaN  \n",
      "48237            2      118       31  NaN  NaN  NaN  NaN  NaN  NaN  \n",
      "48238            0      149      147  NaN  NaN  NaN  NaN  NaN  NaN  \n",
      "48239            1       46       64  NaN  NaN  NaN  NaN  NaN  NaN  \n",
      "\n",
      "[48240 rows x 21 columns]\n"
     ]
    }
   ],
   "source": [
    "def fix_date(date): \n",
    "    if date.year > 2021:\n",
    "        year = date.year - 100\n",
    "    else:\n",
    "        year = date.year\n",
    "    return datetime.date(int(year),date.month,date.day)\n",
    "#change date format\n",
    "df_aux['date'] = pd.to_datetime(df_aux['date']).dt.date\n",
    "#fix date\n",
    "df_aux['date'] = df_aux['date'].apply(fix_date)\n",
    "print(df_aux)"
   ]
  },
  {
   "cell_type": "code",
   "execution_count": 11,
   "id": "77b67bbd",
   "metadata": {},
   "outputs": [],
   "source": [
    "def features_last_matches(df,row,num):\n",
    "    h_t = row['home_id']\n",
    "    a_t = row['away_id']\n",
    "    date = row['date']\n",
    "    #get direct matches\n",
    "    matches = df[((df['home_id']== h_t) & (df['away_id'] == a_t )) | ((df['home_id']== a_t) & (df['away_id'] == h_t))]\n",
    "    \n",
    "    #get last matches of direct matches\n",
    "    last_matches = matches[matches['date'] < date].sort_values(by = 'date', ascending = False).iloc[0:num,:]\n",
    "    if (len(last_matches) == num):\n",
    "    #column of total goals, away goals, home goals, diference goals\n",
    "        total_goals = last_matches['total_goals'].sum()\n",
    "        diff_goals = last_matches['goal_difference'].sum()\n",
    "        team_home_hg = last_matches['home_goals'][last_matches['home_id'] == h_t].sum() \n",
    "        team_home_ag = last_matches['away_goals'][last_matches['away_id'] == h_t].sum()\n",
    "        \n",
    "        team_away_hg = last_matches['home_goals'][last_matches['home_id'] == a_t].sum()\n",
    "        team_away_ag = last_matches['away_goals'][last_matches['away_id'] == a_t].sum()\n",
    "        \n",
    "        team_home_vh= (last_matches['Result'] == 1)[last_matches['home_id'] == h_t].sum(axis=0)\n",
    "        team_home_va= (last_matches['Result'] == 2)[last_matches['away_id'] == h_t].sum(axis=0)\n",
    "        team_away_vh= (last_matches['Result'] == 2)[last_matches['away_id'] == a_t].sum(axis=0)\n",
    "        team_away_va= (last_matches['Result'] == 1)[last_matches['home_id'] == a_t].sum(axis=0)\n",
    "        \n",
    "        row['FTG'] = int(total_goals)\n",
    "        row['FDG'] = int(diff_goals)\n",
    "        row['FHG'] = int(team_home_hg + team_home_ag)\n",
    "        row['FAG'] = int(team_away_hg + team_away_ag)\n",
    "        row['VHT'] = int(team_home_vh + team_home_va)\n",
    "        row['VAT'] = int(team_away_vh + team_away_va)\n",
    "    return row\n",
    "    "
   ]
  },
  {
   "cell_type": "code",
   "execution_count": 12,
   "id": "dbea4d35",
   "metadata": {},
   "outputs": [],
   "source": [
    "#num=5\n",
    "#df_aux_1= df_aux.iloc[1000:1001,:]\n",
    "#df_aux_1= df_aux_1.apply(lambda row: features_last_matches(df_aux, row,num),axis=1)\n",
    "#if (len(last_matches) == num)"
   ]
  },
  {
   "cell_type": "code",
   "execution_count": 13,
   "id": "ed53ca44",
   "metadata": {},
   "outputs": [],
   "source": [
    "num=5\n",
    "#df_aux= df_aux.iloc[0:20000,:]\n",
    "df_aux= df_aux.apply(lambda row: features_last_matches(df_aux, row,num),axis=1)\n"
   ]
  },
  {
   "cell_type": "code",
   "execution_count": 14,
   "id": "2279340f",
   "metadata": {},
   "outputs": [
    {
     "name": "stdout",
     "output_type": "stream",
     "text": [
      "          season  division  matchday        date      time       home_team  \\\n",
      "0      1930-1931         1        10  1931-02-08      None        Athletic   \n",
      "1      1930-1931         1        10  1931-02-08      None       Catalunya   \n",
      "2      1930-1931         1        10  1931-02-08      None      Real Unión   \n",
      "3      1930-1931         1        10  1931-02-08      None        Espanyol   \n",
      "4      1930-1931         1        11  1931-02-15      None        Donostia   \n",
      "...          ...       ...       ...         ...       ...             ...   \n",
      "32324  2021-2022         2         3  2021-08-28   5:00 PM  Sporting Gijón   \n",
      "32325  2021-2022         2         3  2021-08-28   7:30 PM     Real Oviedo   \n",
      "32326  2021-2022         2         3  2021-08-28  10:00 PM    Ponferradina   \n",
      "32327  2021-2022         2         3  2021-08-29   7:30 PM         CD Lugo   \n",
      "32328  2021-2022         2         3  2021-08-29  10:00 PM       Burgos CF   \n",
      "\n",
      "             away_team score  Result  home_goals  ...  goal_difference  \\\n",
      "0            Barcelona  12:1       1          12  ...               11   \n",
      "1               Racing   1:2       2           1  ...                1   \n",
      "2          Arenas Club   2:2       0           2  ...                0   \n",
      "3          Real Madrid   1:1       0           1  ...                0   \n",
      "4             Athletic   1:0       1           1  ...                1   \n",
      "...                ...   ...     ...         ...  ...              ...   \n",
      "32324      CD Mirandés   2:1       1           2  ...                1   \n",
      "32325      CD Tenerife   0:0       0           0  ...                0   \n",
      "32326           Girona   2:1       1           2  ...                1   \n",
      "32327  Real Valladolid   0:2       2           0  ...                2   \n",
      "32328         SD Eibar   0:1       2           0  ...                1   \n",
      "\n",
      "       total_goals  home_id  away_id  FHG  FAG  FTG  FDG  VHT  VAT  \n",
      "0               13        6        5   13   14   27   11    2    2  \n",
      "1                3        9        4   12   12   24   16    2    3  \n",
      "2                4        8        0   15   12   27   13    3    1  \n",
      "3                2        1        2   16    7   23   17    3    2  \n",
      "4                1        3        6    7   20   27   13    0    3  \n",
      "...            ...      ...      ...  ...  ...  ...  ...  ...  ...  \n",
      "32324            3       45      140    7    6   13    5    1    2  \n",
      "32325            0       13       41    9    6   15    5    3    1  \n",
      "32326            3      132       66    3    8   11    5    0    3  \n",
      "32327            2      118       31    5    4    9    1    1    0  \n",
      "32328            1       46       64    5    8   13   13    1    3  \n",
      "\n",
      "[32329 rows x 21 columns]\n"
     ]
    }
   ],
   "source": [
    "#droping unknown\n",
    "df_aux = df_aux.mask(df_aux.eq('Unknown')).dropna(subset=['FHG'])\n",
    "df_aux.reset_index(drop=True, inplace=True) #reset index after droping the unknown\n",
    "df_aux['FHG']=df_aux['FHG'].astype('int')\n",
    "df_aux['FAG']=df_aux['FAG'].astype('int')\n",
    "df_aux['FTG']=df_aux['FTG'].astype('int')\n",
    "df_aux['FDG']=df_aux['FDG'].astype('int')\n",
    "df_aux['VHT']=df_aux['VHT'].astype('int')\n",
    "df_aux['VAT']=df_aux['VAT'].astype('int')\n",
    "print(df_aux)"
   ]
  },
  {
   "cell_type": "markdown",
   "id": "ea77fbfd",
   "metadata": {},
   "source": [
    "## Feature Selection \n"
   ]
  },
  {
   "cell_type": "markdown",
   "id": "cfaf3db3",
   "metadata": {},
   "source": [
    "## Pearson correlation"
   ]
  },
  {
   "cell_type": "markdown",
   "id": "2ca75eb5",
   "metadata": {},
   "source": [
    "We calculate the absolute value of the Pearson's correlation between the target and features. We keep the top n features based on this criterion."
   ]
  },
  {
   "cell_type": "code",
   "execution_count": 75,
   "id": "af9a95dc",
   "metadata": {},
   "outputs": [],
   "source": [
    "y= df_aux['Result'].astype('int')\n",
    "features=['FHG','FAG','FTG','FDG','VHT','VAT']\n",
    "X= df_aux[features].astype('int')\n",
    "num_features= 3"
   ]
  },
  {
   "cell_type": "code",
   "execution_count": 81,
   "id": "3d1a8752",
   "metadata": {},
   "outputs": [
    {
     "name": "stdout",
     "output_type": "stream",
     "text": [
      "1 selected features\n",
      "['VHT']\n"
     ]
    }
   ],
   "source": [
    "num_features= 1\n",
    "from sklearn.feature_selection import SelectKBest\n",
    "from sklearn.feature_selection import chi2\n",
    "from sklearn.preprocessing import MinMaxScaler\n",
    "X_norm = MinMaxScaler().fit_transform(X)\n",
    "chi_selector = SelectKBest(chi2, k=num_features)\n",
    "chi_selector.fit(X_norm, y)\n",
    "chi_support = chi_selector.get_support()\n",
    "chi_feature = X.loc[:,chi_support].columns.tolist()\n",
    "print(str(len(chi_feature)), 'selected features')\n",
    "print(chi_feature)"
   ]
  },
  {
   "cell_type": "code",
   "execution_count": 82,
   "id": "7e1cee15",
   "metadata": {},
   "outputs": [
    {
     "name": "stdout",
     "output_type": "stream",
     "text": [
      "Fitting estimator with 6 features.\n",
      "1 selected features\n",
      "['FHG']\n"
     ]
    }
   ],
   "source": [
    "from sklearn.feature_selection import RFE\n",
    "from sklearn.linear_model import LogisticRegression\n",
    "rfe_selector = RFE(estimator=LogisticRegression(multi_class='ovr', max_iter=500,class_weight=\"balanced\"), n_features_to_select=num_features, step=20, verbose=5)\n",
    "rfe_selector.fit(X_norm, y)\n",
    "rfe_support = rfe_selector.get_support()\n",
    "rfe_feature = X.loc[:,rfe_support].columns.tolist()\n",
    "print(str(len(rfe_feature)), 'selected features')\n",
    "print(rfe_feature)"
   ]
  },
  {
   "cell_type": "code",
   "execution_count": 83,
   "id": "de49d2f1",
   "metadata": {},
   "outputs": [
    {
     "name": "stdout",
     "output_type": "stream",
     "text": [
      "features selected: ['FAG']\n",
      "correlations of features: [-0.021722456174248138, 0.06979129670111216, 0.03529978397983433, 0.03158657267621347, -0.04510128062582966, 0.048126360243492095]\n"
     ]
    }
   ],
   "source": [
    "def Pearson_select(X, y,num_features):\n",
    "    cor_list = []\n",
    "    feature_name = X.columns.tolist()\n",
    "    # calculate the correlation for each feature\n",
    "    for i in feature_name:\n",
    "        cor = np.corrcoef(X[i], y)[0, 1]\n",
    "        cor_list.append(cor)\n",
    "    # feature name\n",
    "    feature_selection = X.iloc[:,np.argsort(np.abs(cor_list))[-num_features:]].columns.tolist()\n",
    "    # feature selection\n",
    "    cor_support = [True if i in feature_selection else False for i in feature_name]\n",
    "    return cor_list, feature_selection\n",
    "\n",
    "cor_list, feature_selection = Pearson_select(X, y,num_features)\n",
    "print('features selected:',feature_selection)\n",
    "print('correlations of features:',cor_list)"
   ]
  },
  {
   "cell_type": "markdown",
   "id": "010b04b8",
   "metadata": {},
   "source": [
    "# SPLIT DATA TRAIN AND TEST"
   ]
  },
  {
   "cell_type": "code",
   "execution_count": 84,
   "id": "bebc8ccf",
   "metadata": {},
   "outputs": [
    {
     "name": "stdout",
     "output_type": "stream",
     "text": [
      "X_train shape: (25863, 4)\n",
      "X_test shape: (6466, 4)\n",
      "y_train shape: (25863,)\n",
      "y_test shape: (6466,)\n"
     ]
    }
   ],
   "source": [
    "features = ['VAT','FDG','FAG','FHG']\n",
    "target = 'Result'\n",
    "X = df_aux[features]\n",
    "y = df_aux[target]\n",
    "X_train, X_test, y_train, y_test = train_test_split(X, y, test_size=0.2, random_state=1)\n",
    "print(f\"X_train shape: {X_train.shape}\")\n",
    "print(f\"X_test shape: {X_test.shape}\")\n",
    "print(f\"y_train shape: {y_train.shape}\")\n",
    "print(f\"y_test shape: {y_test.shape}\")"
   ]
  },
  {
   "cell_type": "code",
   "execution_count": 85,
   "id": "68bc3774",
   "metadata": {},
   "outputs": [],
   "source": [
    "### Sin esto da problemas model.fit "
   ]
  },
  {
   "cell_type": "code",
   "execution_count": 86,
   "id": "194de966",
   "metadata": {},
   "outputs": [],
   "source": [
    "X_train = X_train.astype('int')\n",
    "X_test = X_test.astype('int')\n",
    "y_train = y_train.astype('int')\n",
    "y_test = y_test.astype('int')"
   ]
  },
  {
   "cell_type": "markdown",
   "id": "a7efc58f",
   "metadata": {},
   "source": [
    "# TRAIN AND TEST"
   ]
  },
  {
   "cell_type": "code",
   "execution_count": 87,
   "id": "4988dc35",
   "metadata": {},
   "outputs": [],
   "source": [
    "def train_test(model, X_train, y_train, X_test, y_test):\n",
    "    from sklearn import metrics\n",
    "    #TRAIN\n",
    "    start = time()\n",
    "    model.fit(X_train, y_train)\n",
    "    end = time()\n",
    "    t = end-start\n",
    "    print(\"The model has been trained in {:2f} seconds\".format(t))\n",
    "    \n",
    "    #PREDICTIONS\n",
    "    start = time()\n",
    "    y_pred = model.predict(X_test)\n",
    "    end = time()\n",
    "    t = end-start\n",
    "    print(\"The predictions have been made in {:2f} seconds\".format(t))\n",
    "    \n",
    "    labels = ['Tie', 'Home win', 'Away Win']\n",
    "    #metrics\n",
    "    print(metrics.classification_report(y_test, y_pred, target_names=labels))\n",
    "    print(\"F1 Score: \", metrics.f1_score(y_test, y_pred, average='macro'))\n",
    "    print(\"Accuracy: \", metrics.accuracy_score(y_test, y_pred))\n",
    "    print(\"Recall: \", metrics.recall_score(y_test, y_pred, average='macro'))\n",
    "    print(\"Precision: \", metrics.precision_score(y_test, y_pred, average='macro'))\n",
    "    \n",
    "    return y_pred\n",
    "    "
   ]
  },
  {
   "cell_type": "markdown",
   "id": "16234571",
   "metadata": {},
   "source": [
    "# MODELS"
   ]
  },
  {
   "cell_type": "markdown",
   "id": "e74e1245",
   "metadata": {},
   "source": [
    "### Linear model --> it doesn't work well"
   ]
  },
  {
   "cell_type": "code",
   "execution_count": 88,
   "id": "b6393295",
   "metadata": {},
   "outputs": [
    {
     "name": "stdout",
     "output_type": "stream",
     "text": [
      "[16:14:50] WARNING: C:/Users/Administrator/workspace/xgboost-win64_release_1.5.1/src/learner.cc:1115: Starting in XGBoost 1.3.0, the default evaluation metric used with the objective 'multi:softprob' was changed from 'merror' to 'mlogloss'. Explicitly set eval_metric if you'd like to restore the old behavior.\n"
     ]
    },
    {
     "data": {
      "text/plain": [
       "XGBClassifier(base_score=0.5, booster='gbtree', colsample_bylevel=1,\n",
       "              colsample_bynode=1, colsample_bytree=1, enable_categorical=False,\n",
       "              gamma=0, gpu_id=-1, importance_type=None,\n",
       "              interaction_constraints='', learning_rate=0.300000012,\n",
       "              max_delta_step=0, max_depth=6, min_child_weight=1, missing=nan,\n",
       "              monotone_constraints='()', n_estimators=100, n_jobs=8,\n",
       "              num_parallel_tree=1, objective='multi:softprob', predictor='auto',\n",
       "              random_state=22, reg_alpha=0, reg_lambda=1, scale_pos_weight=None,\n",
       "              seed=22, subsample=1, tree_method='exact', validate_parameters=1,\n",
       "              verbosity=None)"
      ]
     },
     "execution_count": 88,
     "metadata": {},
     "output_type": "execute_result"
    }
   ],
   "source": [
    "# Fitting XGBoost to the Training set\n",
    "from xgboost import XGBClassifier\n",
    "classifier = XGBClassifier(seed=22)\n",
    "classifier.fit(X_train, y_train)"
   ]
  },
  {
   "cell_type": "code",
   "execution_count": 72,
   "id": "8b7fd279",
   "metadata": {},
   "outputs": [
    {
     "name": "stdout",
     "output_type": "stream",
     "text": [
      "              precision    recall  f1-score   support\n",
      "\n",
      "           0       0.25      0.00      0.00      1684\n",
      "           1       0.52      0.99      0.68      3379\n",
      "           2       0.39      0.02      0.03      1403\n",
      "\n",
      "    accuracy                           0.52      6466\n",
      "   macro avg       0.39      0.34      0.24      6466\n",
      "weighted avg       0.42      0.52      0.37      6466\n",
      "\n"
     ]
    }
   ],
   "source": [
    "Y_pred = classifier.predict(X_test)\n",
    "print(classification_report(y_test, Y_pred))"
   ]
  },
  {
   "cell_type": "markdown",
   "id": "1bb77980",
   "metadata": {},
   "source": [
    "### Logistic Regression"
   ]
  },
  {
   "cell_type": "markdown",
   "id": "8290d4a8",
   "metadata": {},
   "source": [
    "EN LOGISTIC REGRESSION PUEDES USAR CLASS_WEIGHT= \"BALANCED\"-> para unbalanced classes"
   ]
  },
  {
   "cell_type": "code",
   "execution_count": 89,
   "id": "a808c4a4",
   "metadata": {},
   "outputs": [],
   "source": [
    "lr = LogisticRegression(multi_class='ovr', max_iter=300,class_weight=\"balanced\")"
   ]
  },
  {
   "cell_type": "code",
   "execution_count": 90,
   "id": "0378111c",
   "metadata": {},
   "outputs": [
    {
     "name": "stdout",
     "output_type": "stream",
     "text": [
      "Logistic Regression:\n",
      "The model has been trained in 0.122078 seconds\n",
      "The predictions have been made in 0.000000 seconds\n",
      "              precision    recall  f1-score   support\n",
      "\n",
      "         Tie       0.29      0.27      0.28      1684\n",
      "    Home win       0.59      0.47      0.52      3379\n",
      "    Away Win       0.28      0.44      0.34      1403\n",
      "\n",
      "    accuracy                           0.41      6466\n",
      "   macro avg       0.39      0.39      0.38      6466\n",
      "weighted avg       0.45      0.41      0.42      6466\n",
      "\n",
      "F1 Score:  0.3807164578603168\n",
      "Accuracy:  0.41045468605010826\n",
      "Recall:  0.39229911879640794\n",
      "Precision:  0.38629875459292634\n"
     ]
    }
   ],
   "source": [
    "print(\"Logistic Regression:\")\n",
    "y_pred_lr = train_test(lr, X_train, y_train, X_test, y_test)"
   ]
  },
  {
   "cell_type": "markdown",
   "id": "37280a31",
   "metadata": {},
   "source": [
    "###  Random Forest"
   ]
  },
  {
   "cell_type": "code",
   "execution_count": 91,
   "id": "4a86651d",
   "metadata": {},
   "outputs": [],
   "source": [
    "rf = RandomForestClassifier(class_weight=\"balanced\")"
   ]
  },
  {
   "cell_type": "code",
   "execution_count": 92,
   "id": "725837f1",
   "metadata": {},
   "outputs": [
    {
     "name": "stdout",
     "output_type": "stream",
     "text": [
      "Random Forest:\n",
      "The model has been trained in 0.998486 seconds\n",
      "The predictions have been made in 0.090808 seconds\n",
      "              precision    recall  f1-score   support\n",
      "\n",
      "         Tie       0.26      0.34      0.29      1684\n",
      "    Home win       0.56      0.40      0.46      3379\n",
      "    Away Win       0.25      0.33      0.28      1403\n",
      "\n",
      "    accuracy                           0.37      6466\n",
      "   macro avg       0.36      0.36      0.35      6466\n",
      "weighted avg       0.41      0.37      0.38      6466\n",
      "\n",
      "F1 Score:  0.34777340611426816\n",
      "Accuracy:  0.36776987318280235\n",
      "Recall:  0.35604734150439815\n",
      "Precision:  0.35627989159448875\n"
     ]
    }
   ],
   "source": [
    "print(\"Random Forest:\")\n",
    "y_pred_rf = train_test(rf, X_train, y_train, X_test, y_test)"
   ]
  },
  {
   "cell_type": "markdown",
   "id": "2f1be28f",
   "metadata": {},
   "source": [
    "###  Decision tree classifier"
   ]
  },
  {
   "cell_type": "code",
   "execution_count": 93,
   "id": "1c883b2a",
   "metadata": {},
   "outputs": [],
   "source": [
    "dt = DecisionTreeClassifier()"
   ]
  },
  {
   "cell_type": "code",
   "execution_count": 94,
   "id": "dc947687",
   "metadata": {},
   "outputs": [
    {
     "name": "stdout",
     "output_type": "stream",
     "text": [
      " Decision tree classifier:\n",
      "The model has been trained in 0.022939 seconds\n",
      "The predictions have been made in 0.001032 seconds\n",
      "              precision    recall  f1-score   support\n",
      "\n",
      "         Tie       0.22      0.09      0.13      1684\n",
      "    Home win       0.53      0.84      0.65      3379\n",
      "    Away Win       0.31      0.08      0.13      1403\n",
      "\n",
      "    accuracy                           0.48      6466\n",
      "   macro avg       0.35      0.34      0.30      6466\n",
      "weighted avg       0.40      0.48      0.40      6466\n",
      "\n",
      "F1 Score:  0.3034324756959845\n",
      "Accuracy:  0.481441385709867\n",
      "Recall:  0.3388382200441648\n",
      "Precision:  0.3538009353176039\n"
     ]
    }
   ],
   "source": [
    "print(\" Decision tree classifier:\")\n",
    "y_pred_dt = train_test(dt, X_train, y_train, X_test, y_test)"
   ]
  },
  {
   "cell_type": "markdown",
   "id": "2351366d",
   "metadata": {},
   "source": [
    "### Gaussain Naive Bayes"
   ]
  },
  {
   "cell_type": "code",
   "execution_count": 95,
   "id": "a960f12d",
   "metadata": {},
   "outputs": [],
   "source": [
    "gnb= GaussianNB(var_smoothing=1.1)"
   ]
  },
  {
   "cell_type": "code",
   "execution_count": 96,
   "id": "ef56b6af",
   "metadata": {},
   "outputs": [
    {
     "name": "stdout",
     "output_type": "stream",
     "text": [
      " Gaussain Naive Bayes:\n",
      "The model has been trained in 0.012966 seconds\n",
      "The predictions have been made in 0.001996 seconds\n",
      "              precision    recall  f1-score   support\n",
      "\n",
      "         Tie       0.00      0.00      0.00      1684\n",
      "    Home win       0.52      1.00      0.69      3379\n",
      "    Away Win       0.43      0.01      0.01      1403\n",
      "\n",
      "    accuracy                           0.52      6466\n",
      "   macro avg       0.32      0.33      0.23      6466\n",
      "weighted avg       0.37      0.52      0.36      6466\n",
      "\n",
      "F1 Score:  0.23290512266832583\n",
      "Accuracy:  0.5225796473863284\n",
      "Recall:  0.3345837718200075\n",
      "Precision:  0.3171524622261628\n"
     ]
    }
   ],
   "source": [
    "print(\" Gaussain Naive Bayes:\")\n",
    "y_pred_gnb = train_test(gnb, X_train, y_train, X_test, y_test)"
   ]
  },
  {
   "cell_type": "markdown",
   "id": "20b3c64d",
   "metadata": {},
   "source": [
    "### Multinomial Naive Bayes"
   ]
  },
  {
   "cell_type": "code",
   "execution_count": 97,
   "id": "e86af388",
   "metadata": {},
   "outputs": [],
   "source": [
    "mnb= MultinomialNB()"
   ]
  },
  {
   "cell_type": "code",
   "execution_count": 98,
   "id": "95ed5e85",
   "metadata": {},
   "outputs": [
    {
     "name": "stdout",
     "output_type": "stream",
     "text": [
      " Gaussain Naive Bayes:\n",
      "The model has been trained in 0.006964 seconds\n",
      "The predictions have been made in 0.000997 seconds\n",
      "              precision    recall  f1-score   support\n",
      "\n",
      "         Tie       0.00      0.00      0.00      1684\n",
      "    Home win       0.54      0.90      0.67      3379\n",
      "    Away Win       0.32      0.19      0.24      1403\n",
      "\n",
      "    accuracy                           0.51      6466\n",
      "   macro avg       0.29      0.36      0.31      6466\n",
      "weighted avg       0.35      0.51      0.40      6466\n",
      "\n",
      "F1 Score:  0.3053920269554024\n",
      "Accuracy:  0.5109805134549954\n",
      "Recall:  0.36386466211195995\n",
      "Precision:  0.2866811100535817\n"
     ]
    }
   ],
   "source": [
    "print(\" Gaussain Naive Bayes:\")\n",
    "y_pred_mbn = train_test(mnb, X_train, y_train, X_test, y_test)"
   ]
  },
  {
   "cell_type": "markdown",
   "id": "7823d079",
   "metadata": {},
   "source": [
    "###  Support Vector Classification --> takes a long time"
   ]
  },
  {
   "cell_type": "code",
   "execution_count": 99,
   "id": "92ea17bd",
   "metadata": {},
   "outputs": [],
   "source": [
    "# svc_rbf = SVC(random_state=100, kernel='rbf')"
   ]
  },
  {
   "cell_type": "code",
   "execution_count": 100,
   "id": "d16cb413",
   "metadata": {},
   "outputs": [],
   "source": [
    "#print(\"Support Vector Classification (Radial Basis Function):\")\n",
    "#train_test(svc_rbf, X_train, y_train, X_test, y_test)"
   ]
  },
  {
   "cell_type": "markdown",
   "id": "e6a171b6",
   "metadata": {},
   "source": [
    "# where does it fail the most"
   ]
  },
  {
   "cell_type": "markdown",
   "id": "91ef086b",
   "metadata": {},
   "source": [
    "You can change the model plot just changing the name of y_pred to see how the model behaves."
   ]
  },
  {
   "cell_type": "markdown",
   "id": "5b8417bf",
   "metadata": {},
   "source": [
    "General behavour: Most models predict home_team wins better than away_team wins. Ties are very poorly predicted for all models."
   ]
  },
  {
   "cell_type": "markdown",
   "id": "4d14e1a4",
   "metadata": {},
   "source": [
    "## Confusion_matrix"
   ]
  },
  {
   "cell_type": "code",
   "execution_count": 101,
   "id": "bc1f0d62",
   "metadata": {},
   "outputs": [
    {
     "data": {
      "image/png": "[encoded data removed]",
      "text/plain": [
       "<Figure size 576x432 with 2 Axes>"
      ]
     },
     "metadata": {
      "needs_background": "light"
     },
     "output_type": "display_data"
    }
   ],
   "source": [
    "#Print Confusion Matrix\n",
    "## PONER EN Y_pred el modelo que quieres!!\n",
    "cm = confusion_matrix(y_test, y_pred_rf)\n",
    "labels = ['Tie', 'Home win', 'Away Win']\n",
    "plt.figure(figsize=(8,6))\n",
    "sns.heatmap(cm,xticklabels=labels, yticklabels=labels, annot=True, fmt='d', cmap=\"Blues\", vmin = 0.2)\n",
    "plt.title('Confusion Matrix')\n",
    "plt.ylabel('True value')\n",
    "plt.xlabel('Prediction')\n",
    "plt.show()"
   ]
  },
  {
   "cell_type": "markdown",
   "id": "5fe054b8",
   "metadata": {},
   "source": [
    "## True result, well prediction, bad pred"
   ]
  },
  {
   "cell_type": "code",
   "execution_count": 102,
   "id": "553be14f",
   "metadata": {},
   "outputs": [],
   "source": [
    "index= X_test.index\n",
    "df_pred= df_aux.loc[index]\n",
    "df_pred['prediction'] = y_pred_rf\n",
    "columns= ['season','division','matchday','date','home_team','away_team','Result','prediction']\n",
    "df_pred= df_pred[columns]"
   ]
  },
  {
   "cell_type": "code",
   "execution_count": 103,
   "id": "a349423d",
   "metadata": {},
   "outputs": [],
   "source": [
    "result = df_pred['Result'].value_counts()\n",
    "pred= df_pred[['prediction','Result']]\n",
    "good_pred= pred[pred['prediction'] == pred['Result']].value_counts()\n",
    "good_pred.reset_index(drop=True, inplace=True, level='Result')"
   ]
  },
  {
   "cell_type": "code",
   "execution_count": 104,
   "id": "5c527083",
   "metadata": {},
   "outputs": [
    {
     "data": {
      "image/png": "[encoded data removed]",
      "text/plain": [
       "<Figure size 1008x576 with 1 Axes>"
      ]
     },
     "metadata": {
      "needs_background": "light"
     },
     "output_type": "display_data"
    }
   ],
   "source": [
    "bad_pred= pred[(pred['prediction'] != pred['Result'])].groupby('Result').count()\n",
    "bad_pred= bad_pred['prediction']\n",
    "evaluation= pd.concat([bad_pred, good_pred,result], axis=1, keys=['Bad Prediction','Well Prediction','True Result']).plot(kind='bar',\n",
    "            figsize=(14,8),\n",
    "            title=\"Model evaluation\",alpha=0.75, rot=0)\n"
   ]
  },
  {
   "cell_type": "markdown",
   "id": "155a7685",
   "metadata": {},
   "source": [
    "## Analysis of failures and successes"
   ]
  },
  {
   "cell_type": "code",
   "execution_count": 106,
   "id": "c8ab5c43",
   "metadata": {},
   "outputs": [
    {
     "name": "stdout",
     "output_type": "stream",
     "text": [
      "Result        0     1    2\n",
      "prediction                \n",
      "0           574  1152  489\n",
      "1           603  1340  450\n",
      "2           507   887  464\n"
     ]
    },
    {
     "data": {
      "image/png": "[encoded data removed]",
      "text/plain": [
       "<Figure size 1008x576 with 1 Axes>"
      ]
     },
     "metadata": {
      "needs_background": "light"
     },
     "output_type": "display_data"
    }
   ],
   "source": [
    "fail_suc= pred[(pred['prediction'] != pred['Result']) | (pred['prediction'] == pred['Result']) ].value_counts()\n",
    "fail_suc= pd.DataFrame(fail_suc)\n",
    "fail_suc = fail_suc.unstack()\n",
    "fail_suc[0].plot(kind='bar',\n",
    "            figsize=(14,8),\n",
    "            title=\"Model evaluation\",alpha=0.75, rot=0)\n",
    "\n",
    "print(fail_suc[0])\n"
   ]
  },
  {
   "cell_type": "markdown",
   "id": "1cea3f65",
   "metadata": {},
   "source": [
    "# EXPORT MODEL"
   ]
  },
  {
   "cell_type": "markdown",
   "id": "c1a34c9d",
   "metadata": {},
   "source": [
    "This only exports the last model run and the TEST"
   ]
  },
  {
   "cell_type": "code",
   "execution_count": 42,
   "id": "6c5e7267",
   "metadata": {},
   "outputs": [],
   "source": [
    "#Replace 0 with X\n",
    "df_pred[['Result','prediction']] = df_pred[['Result','prediction']].astype(str) \n",
    "df_pred[['Result','prediction']]= df_pred[['Result','prediction']].replace('0','X')"
   ]
  },
  {
   "cell_type": "markdown",
   "id": "94ab3a78",
   "metadata": {},
   "source": [
    "shouldExport = input('Do you want to export the model(s) (y / n) ? ')\n",
    "if shouldExport.strip().lower() == 'y':\n",
    "    df_pred.to_excel(\"../models/Predictions.xlsx\")"
   ]
  },
  {
   "cell_type": "code",
   "execution_count": null,
   "id": "c58cc81a",
   "metadata": {},
   "outputs": [],
   "source": []
  }
 ],
 "metadata": {
  "kernelspec": {
   "display_name": "Python 3 (ipykernel)",
   "language": "python",
   "name": "python3"
  },
  "language_info": {
   "codemirror_mode": {
    "name": "ipython",
    "version": 3
   },
   "file_extension": ".py",
   "mimetype": "text/x-python",
   "name": "python",
   "nbconvert_exporter": "python",
   "pygments_lexer": "ipython3",
   "version": "3.8.8"
  }
 },
 "nbformat": 4,
 "nbformat_minor": 5
}
