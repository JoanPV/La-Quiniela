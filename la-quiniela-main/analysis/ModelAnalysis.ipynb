{
 "cells": [
  {
   "cell_type": "code",
   "execution_count": 1,
   "id": "14acdf8d",
   "metadata": {},
   "outputs": [],
   "source": [
    "import time\n",
    "import sqlite3\n",
    "import numpy as np\n",
    "import pandas as pd\n",
    "import datetime\n",
    "import seaborn as sns #conf matrix\n",
    "import datetime\n",
    "import warnings\n",
    "\n",
    "from matplotlib import pyplot as plt\n",
    "from sklearn.model_selection import train_test_split\n",
    "from sklearn.linear_model import LogisticRegression\n",
    "from sklearn.metrics import confusion_matrix,classification_report  #conf matrix\n",
    "from sklearn.feature_selection import RFE\n",
    "from sklearn.feature_selection import chi2\n",
    "from sklearn.metrics import f1_score\n",
    "from sklearn.feature_selection import SelectKBest\n",
    "from sklearn.preprocessing import MinMaxScaler\n",
    "from sklearn import metrics\n",
    "from time import time\n",
    "\n",
    "warnings.filterwarnings(\"ignore\")"
   ]
  },
  {
   "cell_type": "markdown",
   "id": "0ac2ee38",
   "metadata": {},
   "source": [
    "# 1. DATA ANALYSIS"
   ]
  },
  {
   "cell_type": "markdown",
   "id": "b69aeb4a",
   "metadata": {},
   "source": [
    "The first step is to extract, transform and structure the data and search for possible null or not defined values. Moreover, the text/categorical data will be converted into numerical data as most of the algorithms perform better with numerical inputs. Also, the date values will be converted so can be read for python."
   ]
  },
  {
   "cell_type": "code",
   "execution_count": 2,
   "id": "43235c21",
   "metadata": {},
   "outputs": [
    {
     "data": {
      "text/html": [
       "<div>\n",
       "<style scoped>\n",
       "    .dataframe tbody tr th:only-of-type {\n",
       "        vertical-align: middle;\n",
       "    }\n",
       "\n",
       "    .dataframe tbody tr th {\n",
       "        vertical-align: top;\n",
       "    }\n",
       "\n",
       "    .dataframe thead th {\n",
       "        text-align: right;\n",
       "    }\n",
       "</style>\n",
       "<table border=\"1\" class=\"dataframe\">\n",
       "  <thead>\n",
       "    <tr style=\"text-align: right;\">\n",
       "      <th></th>\n",
       "      <th>season</th>\n",
       "      <th>division</th>\n",
       "      <th>matchday</th>\n",
       "      <th>date</th>\n",
       "      <th>time</th>\n",
       "      <th>home_team</th>\n",
       "      <th>away_team</th>\n",
       "      <th>score</th>\n",
       "    </tr>\n",
       "  </thead>\n",
       "  <tbody>\n",
       "    <tr>\n",
       "      <th>0</th>\n",
       "      <td>1928-1929</td>\n",
       "      <td>1</td>\n",
       "      <td>1</td>\n",
       "      <td>2/10/29</td>\n",
       "      <td>None</td>\n",
       "      <td>Arenas Club</td>\n",
       "      <td>Athletic Madrid</td>\n",
       "      <td>2:3</td>\n",
       "    </tr>\n",
       "    <tr>\n",
       "      <th>1</th>\n",
       "      <td>1928-1929</td>\n",
       "      <td>1</td>\n",
       "      <td>1</td>\n",
       "      <td>2/10/29</td>\n",
       "      <td>None</td>\n",
       "      <td>Espanyol</td>\n",
       "      <td>Real Unión</td>\n",
       "      <td>3:2</td>\n",
       "    </tr>\n",
       "    <tr>\n",
       "      <th>2</th>\n",
       "      <td>1928-1929</td>\n",
       "      <td>1</td>\n",
       "      <td>1</td>\n",
       "      <td>2/10/29</td>\n",
       "      <td>None</td>\n",
       "      <td>Real Madrid</td>\n",
       "      <td>Catalunya</td>\n",
       "      <td>5:0</td>\n",
       "    </tr>\n",
       "    <tr>\n",
       "      <th>3</th>\n",
       "      <td>1928-1929</td>\n",
       "      <td>1</td>\n",
       "      <td>1</td>\n",
       "      <td>2/10/29</td>\n",
       "      <td>None</td>\n",
       "      <td>Donostia</td>\n",
       "      <td>Athletic</td>\n",
       "      <td>1:1</td>\n",
       "    </tr>\n",
       "    <tr>\n",
       "      <th>4</th>\n",
       "      <td>1928-1929</td>\n",
       "      <td>1</td>\n",
       "      <td>1</td>\n",
       "      <td>2/12/29</td>\n",
       "      <td>None</td>\n",
       "      <td>Racing</td>\n",
       "      <td>Barcelona</td>\n",
       "      <td>0:2</td>\n",
       "    </tr>\n",
       "    <tr>\n",
       "      <th>...</th>\n",
       "      <td>...</td>\n",
       "      <td>...</td>\n",
       "      <td>...</td>\n",
       "      <td>...</td>\n",
       "      <td>...</td>\n",
       "      <td>...</td>\n",
       "      <td>...</td>\n",
       "      <td>...</td>\n",
       "    </tr>\n",
       "    <tr>\n",
       "      <th>49015</th>\n",
       "      <td>2021-2022</td>\n",
       "      <td>2</td>\n",
       "      <td>42</td>\n",
       "      <td>5/29/22</td>\n",
       "      <td>None</td>\n",
       "      <td>Real Oviedo</td>\n",
       "      <td>UD Ibiza</td>\n",
       "      <td>None</td>\n",
       "    </tr>\n",
       "    <tr>\n",
       "      <th>49016</th>\n",
       "      <td>2021-2022</td>\n",
       "      <td>2</td>\n",
       "      <td>42</td>\n",
       "      <td>5/29/22</td>\n",
       "      <td>None</td>\n",
       "      <td>Real Sociedad B</td>\n",
       "      <td>Real Zaragoza</td>\n",
       "      <td>None</td>\n",
       "    </tr>\n",
       "    <tr>\n",
       "      <th>49017</th>\n",
       "      <td>2021-2022</td>\n",
       "      <td>2</td>\n",
       "      <td>42</td>\n",
       "      <td>5/29/22</td>\n",
       "      <td>None</td>\n",
       "      <td>Sporting Gijón</td>\n",
       "      <td>UD Las Palmas</td>\n",
       "      <td>None</td>\n",
       "    </tr>\n",
       "    <tr>\n",
       "      <th>49018</th>\n",
       "      <td>2021-2022</td>\n",
       "      <td>2</td>\n",
       "      <td>42</td>\n",
       "      <td>5/29/22</td>\n",
       "      <td>None</td>\n",
       "      <td>CD Tenerife</td>\n",
       "      <td>FC Cartagena</td>\n",
       "      <td>None</td>\n",
       "    </tr>\n",
       "    <tr>\n",
       "      <th>49019</th>\n",
       "      <td>2021-2022</td>\n",
       "      <td>2</td>\n",
       "      <td>42</td>\n",
       "      <td>5/29/22</td>\n",
       "      <td>None</td>\n",
       "      <td>Real Valladolid</td>\n",
       "      <td>SD Huesca</td>\n",
       "      <td>None</td>\n",
       "    </tr>\n",
       "  </tbody>\n",
       "</table>\n",
       "<p>49020 rows × 8 columns</p>\n",
       "</div>"
      ],
      "text/plain": [
       "          season  division  matchday     date  time        home_team  \\\n",
       "0      1928-1929         1         1  2/10/29  None      Arenas Club   \n",
       "1      1928-1929         1         1  2/10/29  None         Espanyol   \n",
       "2      1928-1929         1         1  2/10/29  None      Real Madrid   \n",
       "3      1928-1929         1         1  2/10/29  None         Donostia   \n",
       "4      1928-1929         1         1  2/12/29  None           Racing   \n",
       "...          ...       ...       ...      ...   ...              ...   \n",
       "49015  2021-2022         2        42  5/29/22  None      Real Oviedo   \n",
       "49016  2021-2022         2        42  5/29/22  None  Real Sociedad B   \n",
       "49017  2021-2022         2        42  5/29/22  None   Sporting Gijón   \n",
       "49018  2021-2022         2        42  5/29/22  None      CD Tenerife   \n",
       "49019  2021-2022         2        42  5/29/22  None  Real Valladolid   \n",
       "\n",
       "             away_team score  \n",
       "0      Athletic Madrid   2:3  \n",
       "1           Real Unión   3:2  \n",
       "2            Catalunya   5:0  \n",
       "3             Athletic   1:1  \n",
       "4            Barcelona   0:2  \n",
       "...                ...   ...  \n",
       "49015         UD Ibiza  None  \n",
       "49016    Real Zaragoza  None  \n",
       "49017    UD Las Palmas  None  \n",
       "49018     FC Cartagena  None  \n",
       "49019        SD Huesca  None  \n",
       "\n",
       "[49020 rows x 8 columns]"
      ]
     },
     "execution_count": 2,
     "metadata": {},
     "output_type": "execute_result"
    }
   ],
   "source": [
    "cn = sqlite3.connect('../laliga.sqlite')\n",
    "df = pd.read_sql_query(\"SELECT * FROM Matches\", cn)\n",
    "df_aux = df\n",
    "df_aux"
   ]
  },
  {
   "cell_type": "code",
   "execution_count": 3,
   "id": "f622b7b3",
   "metadata": {},
   "outputs": [
    {
     "data": {
      "text/html": [
       "<div>\n",
       "<style scoped>\n",
       "    .dataframe tbody tr th:only-of-type {\n",
       "        vertical-align: middle;\n",
       "    }\n",
       "\n",
       "    .dataframe tbody tr th {\n",
       "        vertical-align: top;\n",
       "    }\n",
       "\n",
       "    .dataframe thead th {\n",
       "        text-align: right;\n",
       "    }\n",
       "</style>\n",
       "<table border=\"1\" class=\"dataframe\">\n",
       "  <thead>\n",
       "    <tr style=\"text-align: right;\">\n",
       "      <th></th>\n",
       "      <th>season</th>\n",
       "      <th>division</th>\n",
       "      <th>matchday</th>\n",
       "      <th>date</th>\n",
       "      <th>time</th>\n",
       "      <th>home_team</th>\n",
       "      <th>away_team</th>\n",
       "      <th>score</th>\n",
       "    </tr>\n",
       "  </thead>\n",
       "  <tbody>\n",
       "    <tr>\n",
       "      <th>0</th>\n",
       "      <td>1928-1929</td>\n",
       "      <td>1</td>\n",
       "      <td>1</td>\n",
       "      <td>1929-02-10</td>\n",
       "      <td>None</td>\n",
       "      <td>Arenas Club</td>\n",
       "      <td>Athletic Madrid</td>\n",
       "      <td>2:3</td>\n",
       "    </tr>\n",
       "    <tr>\n",
       "      <th>1</th>\n",
       "      <td>1928-1929</td>\n",
       "      <td>1</td>\n",
       "      <td>1</td>\n",
       "      <td>1929-02-10</td>\n",
       "      <td>None</td>\n",
       "      <td>Espanyol</td>\n",
       "      <td>Real Unión</td>\n",
       "      <td>3:2</td>\n",
       "    </tr>\n",
       "    <tr>\n",
       "      <th>2</th>\n",
       "      <td>1928-1929</td>\n",
       "      <td>1</td>\n",
       "      <td>1</td>\n",
       "      <td>1929-02-10</td>\n",
       "      <td>None</td>\n",
       "      <td>Real Madrid</td>\n",
       "      <td>Catalunya</td>\n",
       "      <td>5:0</td>\n",
       "    </tr>\n",
       "    <tr>\n",
       "      <th>3</th>\n",
       "      <td>1928-1929</td>\n",
       "      <td>1</td>\n",
       "      <td>1</td>\n",
       "      <td>1929-02-10</td>\n",
       "      <td>None</td>\n",
       "      <td>Donostia</td>\n",
       "      <td>Athletic</td>\n",
       "      <td>1:1</td>\n",
       "    </tr>\n",
       "    <tr>\n",
       "      <th>4</th>\n",
       "      <td>1928-1929</td>\n",
       "      <td>1</td>\n",
       "      <td>1</td>\n",
       "      <td>1929-02-12</td>\n",
       "      <td>None</td>\n",
       "      <td>Racing</td>\n",
       "      <td>Barcelona</td>\n",
       "      <td>0:2</td>\n",
       "    </tr>\n",
       "    <tr>\n",
       "      <th>...</th>\n",
       "      <td>...</td>\n",
       "      <td>...</td>\n",
       "      <td>...</td>\n",
       "      <td>...</td>\n",
       "      <td>...</td>\n",
       "      <td>...</td>\n",
       "      <td>...</td>\n",
       "      <td>...</td>\n",
       "    </tr>\n",
       "    <tr>\n",
       "      <th>49015</th>\n",
       "      <td>2021-2022</td>\n",
       "      <td>2</td>\n",
       "      <td>42</td>\n",
       "      <td>1922-05-29</td>\n",
       "      <td>None</td>\n",
       "      <td>Real Oviedo</td>\n",
       "      <td>UD Ibiza</td>\n",
       "      <td>None</td>\n",
       "    </tr>\n",
       "    <tr>\n",
       "      <th>49016</th>\n",
       "      <td>2021-2022</td>\n",
       "      <td>2</td>\n",
       "      <td>42</td>\n",
       "      <td>1922-05-29</td>\n",
       "      <td>None</td>\n",
       "      <td>Real Sociedad B</td>\n",
       "      <td>Real Zaragoza</td>\n",
       "      <td>None</td>\n",
       "    </tr>\n",
       "    <tr>\n",
       "      <th>49017</th>\n",
       "      <td>2021-2022</td>\n",
       "      <td>2</td>\n",
       "      <td>42</td>\n",
       "      <td>1922-05-29</td>\n",
       "      <td>None</td>\n",
       "      <td>Sporting Gijón</td>\n",
       "      <td>UD Las Palmas</td>\n",
       "      <td>None</td>\n",
       "    </tr>\n",
       "    <tr>\n",
       "      <th>49018</th>\n",
       "      <td>2021-2022</td>\n",
       "      <td>2</td>\n",
       "      <td>42</td>\n",
       "      <td>1922-05-29</td>\n",
       "      <td>None</td>\n",
       "      <td>CD Tenerife</td>\n",
       "      <td>FC Cartagena</td>\n",
       "      <td>None</td>\n",
       "    </tr>\n",
       "    <tr>\n",
       "      <th>49019</th>\n",
       "      <td>2021-2022</td>\n",
       "      <td>2</td>\n",
       "      <td>42</td>\n",
       "      <td>1922-05-29</td>\n",
       "      <td>None</td>\n",
       "      <td>Real Valladolid</td>\n",
       "      <td>SD Huesca</td>\n",
       "      <td>None</td>\n",
       "    </tr>\n",
       "  </tbody>\n",
       "</table>\n",
       "<p>49020 rows × 8 columns</p>\n",
       "</div>"
      ],
      "text/plain": [
       "          season  division  matchday        date  time        home_team  \\\n",
       "0      1928-1929         1         1  1929-02-10  None      Arenas Club   \n",
       "1      1928-1929         1         1  1929-02-10  None         Espanyol   \n",
       "2      1928-1929         1         1  1929-02-10  None      Real Madrid   \n",
       "3      1928-1929         1         1  1929-02-10  None         Donostia   \n",
       "4      1928-1929         1         1  1929-02-12  None           Racing   \n",
       "...          ...       ...       ...         ...   ...              ...   \n",
       "49015  2021-2022         2        42  1922-05-29  None      Real Oviedo   \n",
       "49016  2021-2022         2        42  1922-05-29  None  Real Sociedad B   \n",
       "49017  2021-2022         2        42  1922-05-29  None   Sporting Gijón   \n",
       "49018  2021-2022         2        42  1922-05-29  None      CD Tenerife   \n",
       "49019  2021-2022         2        42  1922-05-29  None  Real Valladolid   \n",
       "\n",
       "             away_team score  \n",
       "0      Athletic Madrid   2:3  \n",
       "1           Real Unión   3:2  \n",
       "2            Catalunya   5:0  \n",
       "3             Athletic   1:1  \n",
       "4            Barcelona   0:2  \n",
       "...                ...   ...  \n",
       "49015         UD Ibiza  None  \n",
       "49016    Real Zaragoza  None  \n",
       "49017    UD Las Palmas  None  \n",
       "49018     FC Cartagena  None  \n",
       "49019        SD Huesca  None  \n",
       "\n",
       "[49020 rows x 8 columns]"
      ]
     },
     "execution_count": 3,
     "metadata": {},
     "output_type": "execute_result"
    }
   ],
   "source": [
    "def fix_date(date): \n",
    "    \"\"\"\n",
    "        This function changes the date and fixes its format.\n",
    "        It is necessary to use this function because sometimes the pd.to_datetime function converts the years wrong.\n",
    "    \"\"\"\n",
    "    if date.year > 2021:\n",
    "        year = date.year - 100\n",
    "    else:\n",
    "        year = date.year\n",
    "    return datetime.date(int(year),date.month,date.day)\n",
    "\n",
    "#change date format\n",
    "df_aux['date'] = pd.to_datetime(df_aux['date']).dt.date\n",
    "#fix date\n",
    "df_aux['date'] = df_aux['date'].apply(fix_date)\n",
    "\n",
    "df_aux"
   ]
  },
  {
   "cell_type": "code",
   "execution_count": 4,
   "id": "8f23b344",
   "metadata": {},
   "outputs": [],
   "source": [
    "# Search for the winner team\n",
    "def parse_score(score):\n",
    "    \"\"\" \n",
    "        This function tells who won as a function of the score.\n",
    "    \"\"\"\n",
    "    w = ''\n",
    "    if score:\n",
    "        score = score.split(':')\n",
    "        if score[0] > score[1]:\n",
    "            w = 1\n",
    "        elif score[0] < score[1]:\n",
    "            w = 2\n",
    "        elif score[0] == score[1]:\n",
    "            w = 0\n",
    "    else:\n",
    "        w = 'Unknown'\n",
    "    return w\n",
    "\n",
    "# Match results\n",
    "scores = df_aux['score'].values\n",
    "scores = [x.split(':') if x else [-1, -1] for x in scores]\n",
    "df_aux['Result'] = df_aux['score'].apply(parse_score)"
   ]
  },
  {
   "cell_type": "code",
   "execution_count": 5,
   "id": "cb78fdd2",
   "metadata": {},
   "outputs": [],
   "source": [
    "#Home goals and away goals\n",
    "home_goals = []\n",
    "away_goals = []\n",
    "\n",
    "for scored_goals in scores:\n",
    "    home_goals.append(scored_goals[0])\n",
    "    away_goals.append(scored_goals[1])\n",
    "    \n",
    "df_aux['home_goals'] = pd.to_numeric(home_goals)\n",
    "df_aux['away_goals'] = pd.to_numeric(away_goals)"
   ]
  },
  {
   "cell_type": "code",
   "execution_count": 6,
   "id": "406e90b4",
   "metadata": {},
   "outputs": [],
   "source": [
    "# Goal difference\n",
    "df_aux['goal_difference'] = abs(df_aux['home_goals'] - df_aux['away_goals'])\n",
    "df_aux['total_goals'] = df_aux['home_goals'] + df_aux['away_goals']"
   ]
  },
  {
   "cell_type": "code",
   "execution_count": 7,
   "id": "d05d50c2",
   "metadata": {},
   "outputs": [],
   "source": [
    "#Assigning values to each team in order of aparison (encode the label)\n",
    "teams = df_aux['home_team'].drop_duplicates().values\n",
    "df_aux['home_id'] = 0\n",
    "df_aux['away_id'] = 0\n",
    "df_aux\n",
    "for i in range(len(teams)):\n",
    "    df_aux.loc[df_aux['home_team'] == teams[i], ['home_id']] = i\n",
    "    df_aux.loc[df_aux['away_team'] == teams[i], ['away_id']] = i\n",
    "\n",
    "#droping unknown\n",
    "df_aux = df_aux.mask(df_aux.eq('Unknown')).dropna(subset=['Result'])\n",
    "df_aux = df_aux.mask(df_aux.eq('Unknown')).dropna(subset=['date'])\n",
    "#reset index after droping the unknown\n",
    "df_aux.reset_index(drop=True, inplace=True) "
   ]
  },
  {
   "cell_type": "markdown",
   "id": "3cc52f9b",
   "metadata": {},
   "source": [
    "### SEARCH FOR FEATURES"
   ]
  },
  {
   "cell_type": "markdown",
   "id": "62a7b698",
   "metadata": {},
   "source": [
    "To be able to predict what will happen in a match, it is necessary to look for variables (features) that help to predict its result. This features can be obtained with data of the teams performance in the last matches. In order to do this, when a team plays on certain date, the code will provide an average of all the available variables of the n matches before that one."
   ]
  },
  {
   "cell_type": "markdown",
   "id": "905013da",
   "metadata": {},
   "source": [
    "In order to achieve the best precision, the features chosen are the following. \n",
    "\n",
    "On the one hand, it is considered the last direct matches between the two teams facing each other. \n",
    "\n",
    "On the other hand, as it is possible that the two teams played a long time ago, the last matches played by each team separately are also taken into account."
   ]
  },
  {
   "cell_type": "markdown",
   "id": "d0b69406",
   "metadata": {},
   "source": [
    "As for some teams there is no previous data, the rows with missing values will be dropped. This can happen as a consequence of previous divison relegation or promotion, or because there is no previously data in the dataset."
   ]
  },
  {
   "cell_type": "code",
   "execution_count": 8,
   "id": "a8873049",
   "metadata": {},
   "outputs": [],
   "source": [
    "# new columns for features\n",
    "\n",
    "#last direct matches\n",
    "df_aux['FHG_dm'] = np.nan #Feature home goals\n",
    "df_aux['FAG_dm'] = np.nan #Feature away goals\n",
    "df_aux['FTG_dm'] = np.nan #Feature total goals\n",
    "df_aux['FDG_dm'] = np.nan #Feature difference goals\n",
    "df_aux['VHT_dm'] = np.nan #victories home team\n",
    "df_aux['VAT_dm'] = np.nan #victories away team\n",
    "\n",
    "#last matches of each team separeately\n",
    "df_aux['FHG'] = np.nan #Feature home goals\n",
    "df_aux['FAG'] = np.nan #Feature away goals\n",
    "df_aux['VHT'] = np.nan #victories home team\n",
    "df_aux['VAT'] = np.nan #victories away team"
   ]
  },
  {
   "cell_type": "code",
   "execution_count": 9,
   "id": "77b67bbd",
   "metadata": {},
   "outputs": [],
   "source": [
    "def last_dir_matches(df,row,num):\n",
    "    \"\"\"\n",
    "        This function gets features for the last num direct matches.\n",
    "    \"\"\"\n",
    "    \n",
    "    h_t = row['home_id']\n",
    "    a_t = row['away_id']\n",
    "    date = row['date']\n",
    "    \n",
    "    #get all direct matches\n",
    "    matches = df[((df['home_id']== h_t) & (df['away_id'] == a_t )) \n",
    "                 | ((df['home_id']== a_t) & (df['away_id'] == h_t))]\n",
    "    \n",
    "    #get last matches of direct matches\n",
    "    last_matches = matches[matches['date'] < date].sort_values(by = 'date', ascending = False).iloc[0:num,:]\n",
    "    if (len(last_matches) == num):\n",
    "        \n",
    "    #columns of total goals, away goals, home goals, diference goals, home victories and away victories\n",
    "        total_goals = last_matches['total_goals'].sum()\n",
    "        diff_goals = last_matches['goal_difference'].sum()\n",
    "        \n",
    "        team_home_hg = last_matches['home_goals'][last_matches['home_id'] == h_t].sum() \n",
    "        team_home_ag = last_matches['away_goals'][last_matches['away_id'] == h_t].sum()\n",
    "        team_away_hg = last_matches['home_goals'][last_matches['home_id'] == a_t].sum()\n",
    "        team_away_ag = last_matches['away_goals'][last_matches['away_id'] == a_t].sum()\n",
    "        \n",
    "        team_home_vh = (last_matches['Result'] == 1)[last_matches['home_id'] == h_t].sum(axis=0)\n",
    "        team_home_va = (last_matches['Result'] == 2)[last_matches['away_id'] == h_t].sum(axis=0)\n",
    "        team_away_vh = (last_matches['Result'] == 2)[last_matches['away_id'] == a_t].sum(axis=0)\n",
    "        team_away_va = (last_matches['Result'] == 1)[last_matches['home_id'] == a_t].sum(axis=0)\n",
    "        \n",
    "        row['FTG_dm'] = int(total_goals)\n",
    "        row['FDG_dm'] = int(diff_goals)\n",
    "        row['FHG_dm'] = int(team_home_hg + team_home_ag)\n",
    "        row['FAG_dm'] = int(team_away_hg + team_away_ag)\n",
    "        row['VHT_dm'] = int(team_home_vh + team_home_va)\n",
    "        row['VAT_dm'] = int(team_away_vh + team_away_va)\n",
    "        \n",
    "    return row"
   ]
  },
  {
   "cell_type": "code",
   "execution_count": 10,
   "id": "a6696451",
   "metadata": {},
   "outputs": [],
   "source": [
    "def last_matches(df,row,num):\n",
    "    \"\"\"\n",
    "        This function gets features for the last num matches for each team.\n",
    "    \"\"\"\n",
    "    \n",
    "    h_t = row['home_id']\n",
    "    a_t = row['away_id']\n",
    "    date = row['date']\n",
    "    \n",
    "    #get all matches of each team\n",
    "    matches_h = df[(df['home_id'] == h_t) | (df['away_id'] == h_t )]\n",
    "    matches_a = df[(df['home_id'] == a_t) | (df['away_id'] == a_t )]\n",
    "    \n",
    "    #get last matches of each team\n",
    "    last_matches_h = matches_h[matches_h['date'] < date].sort_values(by = 'date', ascending = False).iloc[0:num,:]\n",
    "    last_matches_a = matches_a[matches_a['date'] < date].sort_values(by = 'date', ascending = False).iloc[0:num,:]\n",
    "    \n",
    "    if ((len(last_matches_h) == num) and (len(last_matches_a) == num)):\n",
    "        \n",
    "        #column of away goals, home goals, home victories, away victories\n",
    "        team_home_hg = last_matches_h['home_goals'][last_matches_h['home_id'] == h_t].sum() \n",
    "        team_home_ag = last_matches_h['away_goals'][last_matches_h['away_id'] == h_t].sum()\n",
    "        team_away_hg = last_matches_a['home_goals'][last_matches_a['home_id'] == a_t].sum()\n",
    "        team_away_ag = last_matches_a['away_goals'][last_matches_a['away_id'] == a_t].sum()\n",
    "        \n",
    "        team_home_vh = (last_matches_h['Result'] == 1)[last_matches_h['home_id'] == h_t].sum(axis=0)\n",
    "        team_home_va = (last_matches_h['Result'] == 2)[last_matches_h['away_id'] == h_t].sum(axis=0)\n",
    "        team_away_vh = (last_matches_a['Result'] == 2)[last_matches_a['away_id'] == a_t].sum(axis=0)\n",
    "        team_away_va = (last_matches_a['Result'] == 1)[last_matches_a['home_id'] == a_t].sum(axis=0)\n",
    "        \n",
    "        row['FHG'] = int(team_home_hg + team_home_ag)\n",
    "        row['FAG'] = int(team_away_hg + team_away_ag)\n",
    "        row['VHT'] = int(team_home_vh + team_home_va)\n",
    "        row['VAT'] = int(team_away_vh + team_away_va)\n",
    "        \n",
    "    return row"
   ]
  },
  {
   "cell_type": "code",
   "execution_count": 11,
   "id": "ed53ca44",
   "metadata": {},
   "outputs": [],
   "source": [
    "# Features obtained from the last 5 matches of each team\n",
    "num = 5\n",
    "df_aux = df_aux.apply(lambda row: last_matches(df_aux, row, num), axis=1)"
   ]
  },
  {
   "cell_type": "code",
   "execution_count": 12,
   "id": "d92b1536",
   "metadata": {},
   "outputs": [],
   "source": [
    "# Features obtained from the last 7 matches of each team\n",
    "num = 7\n",
    "df_aux = df_aux.apply(lambda row: last_dir_matches(df_aux, row, num), axis=1)"
   ]
  },
  {
   "cell_type": "code",
   "execution_count": 13,
   "id": "2279340f",
   "metadata": {},
   "outputs": [
    {
     "data": {
      "text/html": [
       "<div>\n",
       "<style scoped>\n",
       "    .dataframe tbody tr th:only-of-type {\n",
       "        vertical-align: middle;\n",
       "    }\n",
       "\n",
       "    .dataframe tbody tr th {\n",
       "        vertical-align: top;\n",
       "    }\n",
       "\n",
       "    .dataframe thead th {\n",
       "        text-align: right;\n",
       "    }\n",
       "</style>\n",
       "<table border=\"1\" class=\"dataframe\">\n",
       "  <thead>\n",
       "    <tr style=\"text-align: right;\">\n",
       "      <th></th>\n",
       "      <th>season</th>\n",
       "      <th>division</th>\n",
       "      <th>matchday</th>\n",
       "      <th>date</th>\n",
       "      <th>time</th>\n",
       "      <th>home_team</th>\n",
       "      <th>away_team</th>\n",
       "      <th>score</th>\n",
       "      <th>Result</th>\n",
       "      <th>home_goals</th>\n",
       "      <th>...</th>\n",
       "      <th>FHG_dm</th>\n",
       "      <th>FAG_dm</th>\n",
       "      <th>FTG_dm</th>\n",
       "      <th>FDG_dm</th>\n",
       "      <th>VHT_dm</th>\n",
       "      <th>VAT_dm</th>\n",
       "      <th>FHG</th>\n",
       "      <th>FAG</th>\n",
       "      <th>VHT</th>\n",
       "      <th>VAT</th>\n",
       "    </tr>\n",
       "  </thead>\n",
       "  <tbody>\n",
       "    <tr>\n",
       "      <th>0</th>\n",
       "      <td>1931-1932</td>\n",
       "      <td>1</td>\n",
       "      <td>10</td>\n",
       "      <td>1932-02-07</td>\n",
       "      <td>None</td>\n",
       "      <td>Donostia</td>\n",
       "      <td>Arenas Club</td>\n",
       "      <td>7:0</td>\n",
       "      <td>1</td>\n",
       "      <td>7</td>\n",
       "      <td>...</td>\n",
       "      <td>16</td>\n",
       "      <td>16</td>\n",
       "      <td>32</td>\n",
       "      <td>12</td>\n",
       "      <td>3</td>\n",
       "      <td>3</td>\n",
       "      <td>7</td>\n",
       "      <td>9</td>\n",
       "      <td>1</td>\n",
       "      <td>1</td>\n",
       "    </tr>\n",
       "    <tr>\n",
       "      <th>1</th>\n",
       "      <td>1931-1932</td>\n",
       "      <td>1</td>\n",
       "      <td>10</td>\n",
       "      <td>1932-02-07</td>\n",
       "      <td>None</td>\n",
       "      <td>Barcelona</td>\n",
       "      <td>Real Unión</td>\n",
       "      <td>3:2</td>\n",
       "      <td>1</td>\n",
       "      <td>3</td>\n",
       "      <td>...</td>\n",
       "      <td>22</td>\n",
       "      <td>10</td>\n",
       "      <td>32</td>\n",
       "      <td>12</td>\n",
       "      <td>6</td>\n",
       "      <td>0</td>\n",
       "      <td>12</td>\n",
       "      <td>7</td>\n",
       "      <td>3</td>\n",
       "      <td>2</td>\n",
       "    </tr>\n",
       "    <tr>\n",
       "      <th>2</th>\n",
       "      <td>1931-1932</td>\n",
       "      <td>1</td>\n",
       "      <td>10</td>\n",
       "      <td>1932-02-07</td>\n",
       "      <td>None</td>\n",
       "      <td>Athletic</td>\n",
       "      <td>Real Madrid</td>\n",
       "      <td>3:3</td>\n",
       "      <td>0</td>\n",
       "      <td>3</td>\n",
       "      <td>...</td>\n",
       "      <td>17</td>\n",
       "      <td>13</td>\n",
       "      <td>30</td>\n",
       "      <td>16</td>\n",
       "      <td>4</td>\n",
       "      <td>2</td>\n",
       "      <td>12</td>\n",
       "      <td>10</td>\n",
       "      <td>3</td>\n",
       "      <td>3</td>\n",
       "    </tr>\n",
       "    <tr>\n",
       "      <th>3</th>\n",
       "      <td>1931-1932</td>\n",
       "      <td>1</td>\n",
       "      <td>11</td>\n",
       "      <td>1932-02-14</td>\n",
       "      <td>None</td>\n",
       "      <td>Arenas Club</td>\n",
       "      <td>Barcelona</td>\n",
       "      <td>1:3</td>\n",
       "      <td>2</td>\n",
       "      <td>1</td>\n",
       "      <td>...</td>\n",
       "      <td>11</td>\n",
       "      <td>14</td>\n",
       "      <td>25</td>\n",
       "      <td>13</td>\n",
       "      <td>1</td>\n",
       "      <td>4</td>\n",
       "      <td>7</td>\n",
       "      <td>11</td>\n",
       "      <td>1</td>\n",
       "      <td>3</td>\n",
       "    </tr>\n",
       "    <tr>\n",
       "      <th>4</th>\n",
       "      <td>1931-1932</td>\n",
       "      <td>1</td>\n",
       "      <td>11</td>\n",
       "      <td>1932-02-14</td>\n",
       "      <td>None</td>\n",
       "      <td>Real Madrid</td>\n",
       "      <td>Donostia</td>\n",
       "      <td>1:0</td>\n",
       "      <td>1</td>\n",
       "      <td>1</td>\n",
       "      <td>...</td>\n",
       "      <td>12</td>\n",
       "      <td>14</td>\n",
       "      <td>26</td>\n",
       "      <td>10</td>\n",
       "      <td>3</td>\n",
       "      <td>3</td>\n",
       "      <td>11</td>\n",
       "      <td>9</td>\n",
       "      <td>3</td>\n",
       "      <td>1</td>\n",
       "    </tr>\n",
       "    <tr>\n",
       "      <th>...</th>\n",
       "      <td>...</td>\n",
       "      <td>...</td>\n",
       "      <td>...</td>\n",
       "      <td>...</td>\n",
       "      <td>...</td>\n",
       "      <td>...</td>\n",
       "      <td>...</td>\n",
       "      <td>...</td>\n",
       "      <td>...</td>\n",
       "      <td>...</td>\n",
       "      <td>...</td>\n",
       "      <td>...</td>\n",
       "      <td>...</td>\n",
       "      <td>...</td>\n",
       "      <td>...</td>\n",
       "      <td>...</td>\n",
       "      <td>...</td>\n",
       "      <td>...</td>\n",
       "      <td>...</td>\n",
       "      <td>...</td>\n",
       "      <td>...</td>\n",
       "    </tr>\n",
       "    <tr>\n",
       "      <th>28595</th>\n",
       "      <td>2021-2022</td>\n",
       "      <td>2</td>\n",
       "      <td>3</td>\n",
       "      <td>2021-08-27</td>\n",
       "      <td>8:00 PM</td>\n",
       "      <td>UD Las Palmas</td>\n",
       "      <td>SD Huesca</td>\n",
       "      <td>2:1</td>\n",
       "      <td>1</td>\n",
       "      <td>2</td>\n",
       "      <td>...</td>\n",
       "      <td>6</td>\n",
       "      <td>8</td>\n",
       "      <td>14</td>\n",
       "      <td>10</td>\n",
       "      <td>1</td>\n",
       "      <td>4</td>\n",
       "      <td>5</td>\n",
       "      <td>5</td>\n",
       "      <td>2</td>\n",
       "      <td>3</td>\n",
       "    </tr>\n",
       "    <tr>\n",
       "      <th>28596</th>\n",
       "      <td>2021-2022</td>\n",
       "      <td>2</td>\n",
       "      <td>3</td>\n",
       "      <td>2021-08-28</td>\n",
       "      <td>5:00 PM</td>\n",
       "      <td>Sporting Gijón</td>\n",
       "      <td>CD Mirandés</td>\n",
       "      <td>2:1</td>\n",
       "      <td>1</td>\n",
       "      <td>2</td>\n",
       "      <td>...</td>\n",
       "      <td>10</td>\n",
       "      <td>7</td>\n",
       "      <td>17</td>\n",
       "      <td>7</td>\n",
       "      <td>2</td>\n",
       "      <td>2</td>\n",
       "      <td>2</td>\n",
       "      <td>3</td>\n",
       "      <td>2</td>\n",
       "      <td>1</td>\n",
       "    </tr>\n",
       "    <tr>\n",
       "      <th>28597</th>\n",
       "      <td>2021-2022</td>\n",
       "      <td>2</td>\n",
       "      <td>3</td>\n",
       "      <td>2021-08-28</td>\n",
       "      <td>7:30 PM</td>\n",
       "      <td>Real Oviedo</td>\n",
       "      <td>CD Tenerife</td>\n",
       "      <td>0:0</td>\n",
       "      <td>0</td>\n",
       "      <td>0</td>\n",
       "      <td>...</td>\n",
       "      <td>11</td>\n",
       "      <td>9</td>\n",
       "      <td>20</td>\n",
       "      <td>8</td>\n",
       "      <td>4</td>\n",
       "      <td>2</td>\n",
       "      <td>7</td>\n",
       "      <td>5</td>\n",
       "      <td>0</td>\n",
       "      <td>1</td>\n",
       "    </tr>\n",
       "    <tr>\n",
       "      <th>28598</th>\n",
       "      <td>2021-2022</td>\n",
       "      <td>2</td>\n",
       "      <td>3</td>\n",
       "      <td>2021-08-28</td>\n",
       "      <td>10:00 PM</td>\n",
       "      <td>Ponferradina</td>\n",
       "      <td>Girona</td>\n",
       "      <td>2:1</td>\n",
       "      <td>1</td>\n",
       "      <td>2</td>\n",
       "      <td>...</td>\n",
       "      <td>6</td>\n",
       "      <td>12</td>\n",
       "      <td>18</td>\n",
       "      <td>12</td>\n",
       "      <td>1</td>\n",
       "      <td>4</td>\n",
       "      <td>5</td>\n",
       "      <td>5</td>\n",
       "      <td>2</td>\n",
       "      <td>3</td>\n",
       "    </tr>\n",
       "    <tr>\n",
       "      <th>28599</th>\n",
       "      <td>2021-2022</td>\n",
       "      <td>2</td>\n",
       "      <td>3</td>\n",
       "      <td>2021-08-29</td>\n",
       "      <td>7:30 PM</td>\n",
       "      <td>CD Lugo</td>\n",
       "      <td>Real Valladolid</td>\n",
       "      <td>0:2</td>\n",
       "      <td>2</td>\n",
       "      <td>0</td>\n",
       "      <td>...</td>\n",
       "      <td>6</td>\n",
       "      <td>5</td>\n",
       "      <td>11</td>\n",
       "      <td>1</td>\n",
       "      <td>1</td>\n",
       "      <td>0</td>\n",
       "      <td>6</td>\n",
       "      <td>5</td>\n",
       "      <td>2</td>\n",
       "      <td>1</td>\n",
       "    </tr>\n",
       "  </tbody>\n",
       "</table>\n",
       "<p>28600 rows × 25 columns</p>\n",
       "</div>"
      ],
      "text/plain": [
       "          season  division  matchday        date      time       home_team  \\\n",
       "0      1931-1932         1        10  1932-02-07      None        Donostia   \n",
       "1      1931-1932         1        10  1932-02-07      None       Barcelona   \n",
       "2      1931-1932         1        10  1932-02-07      None        Athletic   \n",
       "3      1931-1932         1        11  1932-02-14      None     Arenas Club   \n",
       "4      1931-1932         1        11  1932-02-14      None     Real Madrid   \n",
       "...          ...       ...       ...         ...       ...             ...   \n",
       "28595  2021-2022         2         3  2021-08-27   8:00 PM   UD Las Palmas   \n",
       "28596  2021-2022         2         3  2021-08-28   5:00 PM  Sporting Gijón   \n",
       "28597  2021-2022         2         3  2021-08-28   7:30 PM     Real Oviedo   \n",
       "28598  2021-2022         2         3  2021-08-28  10:00 PM    Ponferradina   \n",
       "28599  2021-2022         2         3  2021-08-29   7:30 PM         CD Lugo   \n",
       "\n",
       "             away_team score  Result  home_goals  ...  FHG_dm  FAG_dm  FTG_dm  \\\n",
       "0          Arenas Club   7:0       1           7  ...      16      16      32   \n",
       "1           Real Unión   3:2       1           3  ...      22      10      32   \n",
       "2          Real Madrid   3:3       0           3  ...      17      13      30   \n",
       "3            Barcelona   1:3       2           1  ...      11      14      25   \n",
       "4             Donostia   1:0       1           1  ...      12      14      26   \n",
       "...                ...   ...     ...         ...  ...     ...     ...     ...   \n",
       "28595        SD Huesca   2:1       1           2  ...       6       8      14   \n",
       "28596      CD Mirandés   2:1       1           2  ...      10       7      17   \n",
       "28597      CD Tenerife   0:0       0           0  ...      11       9      20   \n",
       "28598           Girona   2:1       1           2  ...       6      12      18   \n",
       "28599  Real Valladolid   0:2       2           0  ...       6       5      11   \n",
       "\n",
       "       FDG_dm  VHT_dm  VAT_dm  FHG  FAG  VHT  VAT  \n",
       "0          12       3       3    7    9    1    1  \n",
       "1          12       6       0   12    7    3    2  \n",
       "2          16       4       2   12   10    3    3  \n",
       "3          13       1       4    7   11    1    3  \n",
       "4          10       3       3   11    9    3    1  \n",
       "...       ...     ...     ...  ...  ...  ...  ...  \n",
       "28595      10       1       4    5    5    2    3  \n",
       "28596       7       2       2    2    3    2    1  \n",
       "28597       8       4       2    7    5    0    1  \n",
       "28598      12       1       4    5    5    2    3  \n",
       "28599       1       1       0    6    5    2    1  \n",
       "\n",
       "[28600 rows x 25 columns]"
      ]
     },
     "execution_count": 13,
     "metadata": {},
     "output_type": "execute_result"
    }
   ],
   "source": [
    "# dropping unknown\n",
    "df_aux = df_aux.mask(df_aux.eq('Unknown')).dropna(subset=['FHG_dm'])\n",
    "df_aux = df_aux.mask(df_aux.eq('Unknown')).dropna(subset=['FHG'])\n",
    "\n",
    "# reset index after droping the unknown\n",
    "df_aux.reset_index(drop=True, inplace=True)\n",
    "\n",
    "# changing types\n",
    "df_aux['FHG_dm'] = df_aux['FHG_dm'].astype('int')\n",
    "df_aux['FAG_dm'] = df_aux['FAG_dm'].astype('int')\n",
    "df_aux['FTG_dm'] = df_aux['FTG_dm'].astype('int')\n",
    "df_aux['FDG_dm'] = df_aux['FDG_dm'].astype('int')\n",
    "df_aux['VHT_dm'] = df_aux['VHT_dm'].astype('int')\n",
    "df_aux['VAT_dm'] = df_aux['VAT_dm'].astype('int')\n",
    "df_aux['FHG'] = df_aux['FHG'].astype('int')\n",
    "df_aux['FAG'] = df_aux['FAG'].astype('int')\n",
    "df_aux['VAT'] = df_aux['VAT'].astype('int')\n",
    "df_aux['VHT'] = df_aux['VHT'].astype('int')\n",
    "\n",
    "df_aux"
   ]
  },
  {
   "cell_type": "markdown",
   "id": "ea77fbfd",
   "metadata": {},
   "source": [
    "## 2. FEATURE SELECTION"
   ]
  },
  {
   "cell_type": "markdown",
   "id": "8761b294",
   "metadata": {},
   "source": [
    "All of the features found might not be useful in building a machine learning model to make the predictions, moreover, some of the features might even make the predictions worse. For this reason, in this section a subset of relevant features will be selected and used in this model. "
   ]
  },
  {
   "cell_type": "markdown",
   "id": "f871bdb5",
   "metadata": {},
   "source": [
    "home_id and away_id have been discarted as features because label encoding induces the following problem. As it uses number sequencing it can cause a comparison between them, this means that the algorithm misunderstand the data and treat it as some kind of order, giving more weight to the teams with higher ids. An alternative procedure is One-Hot Encoding, but due to the amount of teams this would not be efficient."
   ]
  },
  {
   "cell_type": "markdown",
   "id": "df3cb29b",
   "metadata": {},
   "source": [
    "In order to do this feature selection, different methods have been used."
   ]
  },
  {
   "cell_type": "code",
   "execution_count": 14,
   "id": "c01f473c",
   "metadata": {},
   "outputs": [],
   "source": [
    "y = df_aux['Result'].astype('int')\n",
    "features = ['FHG_dm','FAG_dm','FTG_dm','FDG_dm','VHT_dm','VAT_dm','FHG','FAG','VHT','VAT']\n",
    "X = df_aux[features].astype('int')\n",
    "num_features = 4"
   ]
  },
  {
   "cell_type": "markdown",
   "id": "cfaf3db3",
   "metadata": {},
   "source": [
    "### Pearson correlation"
   ]
  },
  {
   "cell_type": "markdown",
   "id": "2ca75eb5",
   "metadata": {},
   "source": [
    "The absolute value of the Pearson's correlation between the target and features is calculated. Giving a value between -1 and 1 that indicates the linear correlation between each variable and the result. This method is a filter-based method.\n",
    "\n",
    "* A value closer to 0 implies weaker correlation (exact 0 implies no correlation)\n",
    "* A value closer to 1 implies stronger positive correlation\n",
    "* A value closer to -1 implies stronger negative correlation\n",
    "\n",
    "The top n features with value closer to 1 will be used."
   ]
  },
  {
   "cell_type": "code",
   "execution_count": 15,
   "id": "2c2a388c",
   "metadata": {},
   "outputs": [
    {
     "name": "stdout",
     "output_type": "stream",
     "text": [
      "Features selected:  ['VHT_dm', 'VAT_dm', 'FAG', 'FAG_dm']\n",
      "Correlations of features:  [-0.020080234363418194, 0.07466513057012698, 0.04029223296368744, 0.03631943129203537, -0.04602250016483274, 0.053785114510317505, 0.0038806873209110463, 0.06500003371570405, -0.021424027938102195, 0.04304510379590489]\n"
     ]
    }
   ],
   "source": [
    "def Pearson_select(X, y, num_features):\n",
    "    \"\"\"\n",
    "        This function selects the \"num_features\" features with smallest\n",
    "        correlation with the other ones.\n",
    "    \"\"\"\n",
    "    \n",
    "    cor_list = []\n",
    "    feature_name = X.columns.tolist()\n",
    "    \n",
    "    # calculate the correlation for each feature\n",
    "    for i in feature_name:\n",
    "        cor = np.corrcoef(X[i], y)[0, 1]\n",
    "        cor_list.append(cor)\n",
    "        \n",
    "    # feature name\n",
    "    feature_selection = X.iloc[:,np.argsort(np.abs(cor_list))[-num_features:]].columns.tolist()\n",
    "    \n",
    "    # feature selection\n",
    "    cor_support = [True if i in feature_selection else False for i in feature_name]\n",
    "    \n",
    "    return cor_list, feature_selection\n",
    "\n",
    "cor_list, feature_selection = Pearson_select(X, y, num_features)\n",
    "print('Features selected: ', feature_selection)\n",
    "print('Correlations of features: ', cor_list)"
   ]
  },
  {
   "cell_type": "markdown",
   "id": "816e8ecc",
   "metadata": {},
   "source": [
    "### Chi-Square"
   ]
  },
  {
   "cell_type": "markdown",
   "id": "46a9d219",
   "metadata": {},
   "source": [
    "This is another filter-based method. In this method, the chi-square metric between the target and the numerical variable is calculated and the variables with the maximum chi-squared values are selected."
   ]
  },
  {
   "cell_type": "code",
   "execution_count": 16,
   "id": "88b38dda",
   "metadata": {},
   "outputs": [
    {
     "name": "stdout",
     "output_type": "stream",
     "text": [
      "4 selected features\n",
      "['FHG_dm', 'VHT_dm', 'VAT_dm', 'VHT']\n"
     ]
    }
   ],
   "source": [
    "# Normalayzing X\n",
    "X_norm = MinMaxScaler().fit_transform(X)\n",
    "\n",
    "# Computing Chi\n",
    "chi_selector = SelectKBest(chi2, k=num_features)\n",
    "chi_selector.fit(X_norm, y)\n",
    "chi_support = chi_selector.get_support()\n",
    "chi_feature = X.loc[:,chi_support].columns.tolist()\n",
    "\n",
    "print(str(len(chi_feature)), 'selected features')\n",
    "print(chi_feature)"
   ]
  },
  {
   "cell_type": "markdown",
   "id": "1efef45a",
   "metadata": {},
   "source": [
    "### Recursive Feature Elimination"
   ]
  },
  {
   "cell_type": "markdown",
   "id": "3470f03d",
   "metadata": {},
   "source": [
    "This is a wrapper based method which consist on selecting features by recursively considering smaller and smaller sets of features. First, the estimator is trained on the initial set of features. Then, the least important ones are eliminated from the current set. This procedure is recursively repeated until the desired number of features is reached. In this case the Logistic Regression has been used as the estimator."
   ]
  },
  {
   "cell_type": "code",
   "execution_count": 17,
   "id": "eb0c7cbb",
   "metadata": {},
   "outputs": [
    {
     "name": "stdout",
     "output_type": "stream",
     "text": [
      "Fitting estimator with 10 features.\n",
      "selected features: 4\n",
      "['FHG_dm', 'FAG_dm', 'FHG', 'FAG']\n"
     ]
    }
   ],
   "source": [
    "rfe_selector = RFE(estimator=LogisticRegression(multi_class='ovr', max_iter=500, class_weight=\"balanced\"), \n",
    "                   n_features_to_select=num_features, step=30, verbose=5)\n",
    "rfe_selector.fit(X_norm, y)\n",
    "rfe_support = rfe_selector.get_support()\n",
    "rfe_feature = X.loc[:,rfe_support].columns.tolist()\n",
    "\n",
    "print('selected features:',str(len(rfe_feature)))\n",
    "print(rfe_feature)"
   ]
  },
  {
   "cell_type": "markdown",
   "id": "010b04b8",
   "metadata": {},
   "source": [
    "# 3. SPLIT DATA"
   ]
  },
  {
   "cell_type": "markdown",
   "id": "3869e72c",
   "metadata": {},
   "source": [
    "In order to train and test the model the data has been randomly split, using the library ”train test split” from scikit-learn. The split used is 80% training and 20% test. "
   ]
  },
  {
   "cell_type": "code",
   "execution_count": 18,
   "id": "bebc8ccf",
   "metadata": {},
   "outputs": [
    {
     "name": "stdout",
     "output_type": "stream",
     "text": [
      "X_train shape: (22880, 4)\n",
      "X_test shape: (5720, 4)\n",
      "y_train shape: (22880,)\n",
      "y_test shape: (5720,)\n"
     ]
    }
   ],
   "source": [
    "features = ['FHG_dm', 'FAG_dm', 'FHG', 'FAG']\n",
    "target = 'Result'\n",
    "X = df_aux[features]\n",
    "y = df_aux[target]\n",
    "\n",
    "#split\n",
    "X_train, X_test, y_train, y_test = train_test_split(X, y, test_size=0.2, random_state=1)\n",
    "X_train = X_train.astype('int')\n",
    "X_test = X_test.astype('int')\n",
    "y_train = y_train.astype('int')\n",
    "y_test = y_test.astype('int')\n",
    "\n",
    "#size\n",
    "print(f\"X_train shape: {X_train.shape}\")\n",
    "print(f\"X_test shape: {X_test.shape}\")\n",
    "print(f\"y_train shape: {y_train.shape}\")\n",
    "print(f\"y_test shape: {y_test.shape}\")"
   ]
  },
  {
   "cell_type": "markdown",
   "id": "a7efc58f",
   "metadata": {},
   "source": [
    "# 4. MODEL AND METRICS"
   ]
  },
  {
   "cell_type": "markdown",
   "id": "0d6c2977",
   "metadata": {},
   "source": [
    "While training the model, the data was found to be unbalanced, meaning that the number of times the target variable appears was very different from the others. In this case, the number of times that the \"home team won\" was, by far, higher than \"tie\" or \"home team lose\". When this happens, the algorithm learns that a particular class is more common, inducing a bias towards it because predicting the majority models would score high in accuracy. However, when this happens the model is not great. It assigns the same class to all the observations and does not generalize well.\n",
    "\n",
    "In order to fix it, a penalized model has been used. Usually, algorithms treat all misclassifications in the same way. Then, the idea is to penalize misclassifications from the majority class more than the minority. These penalties help the model to improve the predictions of the minority class."
   ]
  },
  {
   "cell_type": "markdown",
   "id": "ba9d7882",
   "metadata": {},
   "source": [
    "In order to evaluate the model, a metric has to be chosen. When the data is unbalanced using accuracy as a metric is never a good idea. For this reason, precision, recall, and F1-Score (a combination of both, recall and precision) are used also to review the obtained results. \n",
    "* Precision: How accurate the positive predictions are.\n",
    "* Recall: Coverage of actual positive sample."
   ]
  },
  {
   "cell_type": "code",
   "execution_count": 19,
   "id": "4988dc35",
   "metadata": {},
   "outputs": [],
   "source": [
    "def train_test(model, X_train, y_train, X_test, y_test):\n",
    "    \"\"\"\n",
    "        General function that trains a model and makes the predictions.\n",
    "        This function also evaluates the model using a given metric.\n",
    "    \"\"\"\n",
    "    #TRAIN\n",
    "    start = time()\n",
    "    model.fit(X_train, y_train)\n",
    "    end = time()\n",
    "    t = end - start\n",
    "    print(\"The model has been trained in {:2f} seconds\".format(t))\n",
    "    \n",
    "    #PREDICTIONS\n",
    "    start = time()\n",
    "    y_pred = model.predict(X_test)\n",
    "    end = time()\n",
    "    t = end - start\n",
    "    print(\"The predictions have been made in {:2f} seconds\".format(t))\n",
    "    \n",
    "    labels = ['Tie', 'Home win', 'Away Win']\n",
    "    \n",
    "    #METRICS\n",
    "    print(metrics.classification_report(y_test, y_pred, target_names=labels))\n",
    "    print(\"F1 Score: \", metrics.f1_score(y_test, y_pred, average='macro'))\n",
    "    print(\"Accuracy: \", metrics.accuracy_score(y_test, y_pred))\n",
    "    print(\"Recall: \", metrics.recall_score(y_test, y_pred, average='macro'))\n",
    "    print(\"Precision: \", metrics.precision_score(y_test, y_pred, average='macro'))\n",
    "    \n",
    "    return y_pred\n",
    "    "
   ]
  },
  {
   "cell_type": "markdown",
   "id": "1bb77980",
   "metadata": {},
   "source": [
    "### Logistic Regression"
   ]
  },
  {
   "cell_type": "markdown",
   "id": "c56f48be",
   "metadata": {},
   "source": [
    "The chosen model has been logistic regression, which uses an equation similar to linear regression, where the inputs are combined linearly using weights or coefficient values to predict the output value. Logistic regressions are binary classifiers, this means that they cannot handle outputs with more than two classes. In this project, as there are 3 classes, the one-vs-rest logistic regression (OVR) extension has been used. It assumes that each classification problem is independent. In one-vs-rest logistic regression a separate model is trained for each class predicted whether an observation is that class or not (thus making a binary classification problem)."
   ]
  },
  {
   "cell_type": "code",
   "execution_count": 20,
   "id": "a808c4a4",
   "metadata": {},
   "outputs": [],
   "source": [
    "lr = LogisticRegression(multi_class='ovr', max_iter=300,class_weight=\"balanced\")"
   ]
  },
  {
   "cell_type": "code",
   "execution_count": 21,
   "id": "0378111c",
   "metadata": {},
   "outputs": [
    {
     "name": "stdout",
     "output_type": "stream",
     "text": [
      "Logistic Regression:\n",
      "The model has been trained in 0.095234 seconds\n",
      "The predictions have been made in 0.001955 seconds\n",
      "              precision    recall  f1-score   support\n",
      "\n",
      "         Tie       0.30      0.26      0.28      1477\n",
      "    Home win       0.62      0.52      0.57      2982\n",
      "    Away Win       0.31      0.47      0.37      1261\n",
      "\n",
      "    accuracy                           0.44      5720\n",
      "   macro avg       0.41      0.42      0.41      5720\n",
      "weighted avg       0.47      0.44      0.45      5720\n",
      "\n",
      "F1 Score:  0.4067674527153951\n",
      "Accuracy:  0.4433566433566434\n",
      "Recall:  0.4181760701125092\n",
      "Precision:  0.40973742610673664\n"
     ]
    }
   ],
   "source": [
    "print(\"Logistic Regression:\")\n",
    "y_pred_lr = train_test(lr, X_train, y_train, X_test, y_test)"
   ]
  },
  {
   "cell_type": "markdown",
   "id": "96a528d1",
   "metadata": {},
   "source": [
    "# 5. ANALYSIS OF THE RESULTS"
   ]
  },
  {
   "cell_type": "markdown",
   "id": "4d14e1a4",
   "metadata": {},
   "source": [
    "### Confusion matrix"
   ]
  },
  {
   "cell_type": "markdown",
   "id": "ae7c88a5",
   "metadata": {},
   "source": [
    "By plotting the confusion matrix, the relation between actual and predicted results can be seen easily. It shows the relation between predicted and real values in a matrix. It can be seen that the model does a pretty good job in predicting home wins and a moderate job in predicting \"Away Win\". However, the worst predictions of our model are ties."
   ]
  },
  {
   "cell_type": "code",
   "execution_count": 22,
   "id": "bc1f0d62",
   "metadata": {},
   "outputs": [
    {
     "data": {
      "image/png": "[encoded data removed]",
      "text/plain": [
       "<Figure size 576x432 with 2 Axes>"
      ]
     },
     "metadata": {
      "needs_background": "light"
     },
     "output_type": "display_data"
    }
   ],
   "source": [
    "# Confusion Matrix\n",
    "cm = confusion_matrix(y_test, y_pred_lr)\n",
    "labels = ['Tie', 'Home win', 'Away Win']\n",
    "plt.figure(figsize=(8,6))\n",
    "sns.heatmap(cm,xticklabels=labels, yticklabels=labels, annot=True, fmt='d', cmap=\"Blues\",vmin = 0.2)\n",
    "plt.title('Confusion Matrix')\n",
    "plt.ylabel('Real value')\n",
    "plt.xlabel('Prediction')\n",
    "plt.show()"
   ]
  },
  {
   "cell_type": "markdown",
   "id": "5fe054b8",
   "metadata": {},
   "source": [
    "### Actual result, well prediction, bad prediction"
   ]
  },
  {
   "cell_type": "markdown",
   "id": "bf16cb72",
   "metadata": {},
   "source": [
    "Similarly to the confusion matrix, plotting as a bar diagram can also be helpful to see the effectiveness of the model.\n",
    "Here it can be see again that the worst predictions of the model are ties (there are much more bad predictions than good ones)."
   ]
  },
  {
   "cell_type": "code",
   "execution_count": 23,
   "id": "553be14f",
   "metadata": {},
   "outputs": [],
   "source": [
    "index = X_test.index\n",
    "df_pred = df_aux.loc[index]\n",
    "df_pred['prediction'] = y_pred_lr\n",
    "columns = ['season','division','matchday','date','home_team','away_team','Result','prediction']\n",
    "df_pred = df_pred[columns]"
   ]
  },
  {
   "cell_type": "code",
   "execution_count": 24,
   "id": "a349423d",
   "metadata": {},
   "outputs": [],
   "source": [
    "result = df_pred['Result'].value_counts()\n",
    "pred = df_pred[['prediction','Result']]\n",
    "good_pred = pred[pred['prediction'] == pred['Result']].value_counts()\n",
    "good_pred.reset_index(drop=True, inplace=True, level='Result')"
   ]
  },
  {
   "cell_type": "code",
   "execution_count": 25,
   "id": "5c527083",
   "metadata": {},
   "outputs": [
    {
     "data": {
      "image/png": "[encoded data removed]",
      "text/plain": [
       "<Figure size 1008x576 with 1 Axes>"
      ]
     },
     "metadata": {
      "needs_background": "light"
     },
     "output_type": "display_data"
    }
   ],
   "source": [
    "bad_pred = pred[(pred['prediction'] != pred['Result'])].groupby('Result').count()\n",
    "bad_pred = bad_pred['prediction']\n",
    "evaluation = pd.concat([bad_pred, good_pred,result], axis=1, \n",
    "                       keys=['Bad Prediction','Good Prediction','Actual Result']\n",
    "                      ).plot(kind='bar', figsize=(14,8), title=\"Model evaluation\", alpha=0.75, rot=0)"
   ]
  },
  {
   "cell_type": "markdown",
   "id": "155a7685",
   "metadata": {},
   "source": [
    "### Analysis of failures and successes"
   ]
  },
  {
   "cell_type": "markdown",
   "id": "dba88a55",
   "metadata": {},
   "source": [
    "Another way to evaluate the model is looking for the incorrectly predicted values. This procedure let us know if there is a bias towards a specific value. In this case, it was really helpful to see that if the bias is not treated correctly, in some cases, ties were never predicted."
   ]
  },
  {
   "cell_type": "code",
   "execution_count": 26,
   "id": "c8ab5c43",
   "metadata": {},
   "outputs": [
    {
     "name": "stdout",
     "output_type": "stream",
     "text": [
      "Result        0     1    2\n",
      "prediction                \n",
      "0           391   628  285\n",
      "1           569  1554  385\n",
      "2           517   800  591\n"
     ]
    },
    {
     "data": {
      "image/png": "[encoded data removed]",
      "text/plain": [
       "<Figure size 1008x576 with 1 Axes>"
      ]
     },
     "metadata": {
      "needs_background": "light"
     },
     "output_type": "display_data"
    }
   ],
   "source": [
    "fail_suc = pred[(pred['prediction'] != pred['Result']) | \n",
    "                (pred['prediction'] == pred['Result']) ].value_counts()\n",
    "fail_suc = pd.DataFrame(fail_suc)\n",
    "fail_suc = fail_suc.unstack()\n",
    "fail_suc[0].plot(kind='bar', figsize=(14,8), title=\"Model evaluation\",alpha=0.75, rot=0)\n",
    "\n",
    "print(fail_suc[0])"
   ]
  },
  {
   "cell_type": "markdown",
   "id": "c4a85518",
   "metadata": {},
   "source": [
    "# 6. Conclusions"
   ]
  },
  {
   "cell_type": "markdown",
   "id": "e8320aca",
   "metadata": {},
   "source": [
    "Based on the previous analysis, our model predicts quite well the results of the matches as it achieved at least 40% of accuracy, F1-score, recall and precision and, without using the algorithm, the random prediction probability of success is 33% (home win/away win/tie) so the algorithm is able to identify some patterns after all.\n",
    "\n",
    "The 4 most important features where the home goals, the away goals for both, direct matches between both teams and matches of each team separately. It has been surprising for us that no feature selection method has selected \"home wins\" or \"away wins\" as potencial predictors.\n",
    "\n",
    "Regarding metrics, looking for acuracy has been proved to not being the only relevant measurement, as many times can be misleading. As an example, the firs models proposed had a high accuracy, but ties were never predicted. This was a consequence of the dataset unbalance. For this reason, other metrics have also been used to evaluate the models: recall, precision, and F1-score.\n",
    "\n",
    "In our model the F1-score, which gave the a combination of both, recall and precision, gives 0.28, 0.57 and 0.37. This means that:\n",
    "\n",
    "* On the one hand, the model is better predicting a win for the home team. This is caused by the previously mentioned problem with the data, as most of the times home team wins. \n",
    "\n",
    "* On the other hand, the model fails the most in case of ties, but not as much as if we focused on accuracy.\n",
    "\n",
    "The main cause for this difference was the amount of data disponible for each case. We have tried to fix this problem using a penalized model, but it can also be achieved by making changes to the data. This means that the model could be less biased towards the home team if the data were equally distributed. \n",
    "\n",
    "In conclusion, with this project we have realized that football prediction is a very hard task. For the future, we suggest to find more variables that could be useful for the prediction results as details of the players of each team, players individual performance, fouls committed, etc.\n",
    "In conclusion, one can see that football predicition is a very hard task to achieve. For further improvements, a higer amount of variables would be helpful, such as details of each member of the team, the strategy used, the trainer, fouls committed, etc.\n"
   ]
  },
  {
   "cell_type": "markdown",
   "id": "1cea3f65",
   "metadata": {},
   "source": [
    "# 7. EXPORT MODEL"
   ]
  },
  {
   "cell_type": "markdown",
   "id": "c1a34c9d",
   "metadata": {},
   "source": [
    "This only exports the last model run and the TEST"
   ]
  },
  {
   "cell_type": "code",
   "execution_count": 27,
   "id": "6c5e7267",
   "metadata": {},
   "outputs": [],
   "source": [
    "#Replace 0 with X\n",
    "df_pred[['Result','prediction']] = df_pred[['Result','prediction']].astype(str) \n",
    "df_pred[['Result','prediction']] = df_pred[['Result','prediction']].replace('0','X')"
   ]
  },
  {
   "cell_type": "code",
   "execution_count": 28,
   "id": "87196de2",
   "metadata": {},
   "outputs": [
    {
     "name": "stdout",
     "output_type": "stream",
     "text": [
      "Do you want to export the model(s) (y / n) ? y\n"
     ]
    }
   ],
   "source": [
    "shouldExport = input('Do you want to export the model(s) (y / n) ? ')\n",
    "if shouldExport.strip().lower() == 'y':\n",
    "    df_pred.to_excel(\"../models/Predictions.xlsx\")"
   ]
  }
 ],
 "metadata": {
  "kernelspec": {
   "display_name": "Python 3 (ipykernel)",
   "language": "python",
   "name": "python3"
  },
  "language_info": {
   "codemirror_mode": {
    "name": "ipython",
    "version": 3
   },
   "file_extension": ".py",
   "mimetype": "text/x-python",
   "name": "python",
   "nbconvert_exporter": "python",
   "pygments_lexer": "ipython3",
   "version": "3.8.11"
  }
 },
 "nbformat": 4,
 "nbformat_minor": 5
}
