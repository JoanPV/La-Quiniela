{
 "cells": [
  {
   "cell_type": "code",
   "execution_count": 26,
   "id": "14acdf8d",
   "metadata": {},
   "outputs": [],
   "source": [
    "import time\n",
    "import sqlite3\n",
    "import numpy as np\n",
    "import pandas as pd\n",
    "import datetime\n",
    "from matplotlib import pyplot as plt\n",
    "from sklearn.model_selection import train_test_split\n",
    "from sklearn.linear_model import LogisticRegression\n",
    "from sklearn.metrics import confusion_matrix,classification_report  #conf matrix\n",
    "from sklearn.feature_selection import RFE\n",
    "import seaborn as sns #conf matrix\n",
    "from sklearn.feature_selection import chi2\n",
    "from time import time\n",
    "import datetime\n",
    "import warnings\n",
    "warnings.filterwarnings(\"ignore\")\n",
    "from sklearn.metrics import f1_score\n",
    "from sklearn.feature_selection import SelectKBest\n",
    "from sklearn.preprocessing import MinMaxScaler\n",
    "import pickle"
   ]
  },
  {
   "cell_type": "markdown",
   "id": "0ac2ee38",
   "metadata": {},
   "source": [
    "# 1. DATA ANALYSIS"
   ]
  },
  {
   "cell_type": "markdown",
   "id": "b69aeb4a",
   "metadata": {},
   "source": [
    "The first step is to extract, transform and structure the data and search for possible null or not defined values. Moreover, we will have to convert text/categorical data into numerical data as most of the algorithms work better with numerical inputs and also convert the date values in a way that is readable for python."
   ]
  },
  {
   "cell_type": "code",
   "execution_count": 27,
   "id": "43235c21",
   "metadata": {},
   "outputs": [
    {
     "data": {
      "text/html": [
       "<div>\n",
       "<style scoped>\n",
       "    .dataframe tbody tr th:only-of-type {\n",
       "        vertical-align: middle;\n",
       "    }\n",
       "\n",
       "    .dataframe tbody tr th {\n",
       "        vertical-align: top;\n",
       "    }\n",
       "\n",
       "    .dataframe thead th {\n",
       "        text-align: right;\n",
       "    }\n",
       "</style>\n",
       "<table border=\"1\" class=\"dataframe\">\n",
       "  <thead>\n",
       "    <tr style=\"text-align: right;\">\n",
       "      <th></th>\n",
       "      <th>season</th>\n",
       "      <th>division</th>\n",
       "      <th>matchday</th>\n",
       "      <th>date</th>\n",
       "      <th>time</th>\n",
       "      <th>home_team</th>\n",
       "      <th>away_team</th>\n",
       "      <th>score</th>\n",
       "    </tr>\n",
       "  </thead>\n",
       "  <tbody>\n",
       "    <tr>\n",
       "      <th>0</th>\n",
       "      <td>1928-1929</td>\n",
       "      <td>1</td>\n",
       "      <td>1</td>\n",
       "      <td>2/10/29</td>\n",
       "      <td>None</td>\n",
       "      <td>Arenas Club</td>\n",
       "      <td>Athletic Madrid</td>\n",
       "      <td>2:3</td>\n",
       "    </tr>\n",
       "    <tr>\n",
       "      <th>1</th>\n",
       "      <td>1928-1929</td>\n",
       "      <td>1</td>\n",
       "      <td>1</td>\n",
       "      <td>2/10/29</td>\n",
       "      <td>None</td>\n",
       "      <td>Espanyol</td>\n",
       "      <td>Real Unión</td>\n",
       "      <td>3:2</td>\n",
       "    </tr>\n",
       "    <tr>\n",
       "      <th>2</th>\n",
       "      <td>1928-1929</td>\n",
       "      <td>1</td>\n",
       "      <td>1</td>\n",
       "      <td>2/10/29</td>\n",
       "      <td>None</td>\n",
       "      <td>Real Madrid</td>\n",
       "      <td>Catalunya</td>\n",
       "      <td>5:0</td>\n",
       "    </tr>\n",
       "    <tr>\n",
       "      <th>3</th>\n",
       "      <td>1928-1929</td>\n",
       "      <td>1</td>\n",
       "      <td>1</td>\n",
       "      <td>2/10/29</td>\n",
       "      <td>None</td>\n",
       "      <td>Donostia</td>\n",
       "      <td>Athletic</td>\n",
       "      <td>1:1</td>\n",
       "    </tr>\n",
       "    <tr>\n",
       "      <th>4</th>\n",
       "      <td>1928-1929</td>\n",
       "      <td>1</td>\n",
       "      <td>1</td>\n",
       "      <td>2/12/29</td>\n",
       "      <td>None</td>\n",
       "      <td>Racing</td>\n",
       "      <td>Barcelona</td>\n",
       "      <td>0:2</td>\n",
       "    </tr>\n",
       "    <tr>\n",
       "      <th>...</th>\n",
       "      <td>...</td>\n",
       "      <td>...</td>\n",
       "      <td>...</td>\n",
       "      <td>...</td>\n",
       "      <td>...</td>\n",
       "      <td>...</td>\n",
       "      <td>...</td>\n",
       "      <td>...</td>\n",
       "    </tr>\n",
       "    <tr>\n",
       "      <th>49015</th>\n",
       "      <td>2021-2022</td>\n",
       "      <td>2</td>\n",
       "      <td>42</td>\n",
       "      <td>5/29/22</td>\n",
       "      <td>None</td>\n",
       "      <td>Real Oviedo</td>\n",
       "      <td>UD Ibiza</td>\n",
       "      <td>None</td>\n",
       "    </tr>\n",
       "    <tr>\n",
       "      <th>49016</th>\n",
       "      <td>2021-2022</td>\n",
       "      <td>2</td>\n",
       "      <td>42</td>\n",
       "      <td>5/29/22</td>\n",
       "      <td>None</td>\n",
       "      <td>Real Sociedad B</td>\n",
       "      <td>Real Zaragoza</td>\n",
       "      <td>None</td>\n",
       "    </tr>\n",
       "    <tr>\n",
       "      <th>49017</th>\n",
       "      <td>2021-2022</td>\n",
       "      <td>2</td>\n",
       "      <td>42</td>\n",
       "      <td>5/29/22</td>\n",
       "      <td>None</td>\n",
       "      <td>Sporting Gijón</td>\n",
       "      <td>UD Las Palmas</td>\n",
       "      <td>None</td>\n",
       "    </tr>\n",
       "    <tr>\n",
       "      <th>49018</th>\n",
       "      <td>2021-2022</td>\n",
       "      <td>2</td>\n",
       "      <td>42</td>\n",
       "      <td>5/29/22</td>\n",
       "      <td>None</td>\n",
       "      <td>CD Tenerife</td>\n",
       "      <td>FC Cartagena</td>\n",
       "      <td>None</td>\n",
       "    </tr>\n",
       "    <tr>\n",
       "      <th>49019</th>\n",
       "      <td>2021-2022</td>\n",
       "      <td>2</td>\n",
       "      <td>42</td>\n",
       "      <td>5/29/22</td>\n",
       "      <td>None</td>\n",
       "      <td>Real Valladolid</td>\n",
       "      <td>SD Huesca</td>\n",
       "      <td>None</td>\n",
       "    </tr>\n",
       "  </tbody>\n",
       "</table>\n",
       "<p>49020 rows × 8 columns</p>\n",
       "</div>"
      ],
      "text/plain": [
       "          season  division  matchday     date  time        home_team  \\\n",
       "0      1928-1929         1         1  2/10/29  None      Arenas Club   \n",
       "1      1928-1929         1         1  2/10/29  None         Espanyol   \n",
       "2      1928-1929         1         1  2/10/29  None      Real Madrid   \n",
       "3      1928-1929         1         1  2/10/29  None         Donostia   \n",
       "4      1928-1929         1         1  2/12/29  None           Racing   \n",
       "...          ...       ...       ...      ...   ...              ...   \n",
       "49015  2021-2022         2        42  5/29/22  None      Real Oviedo   \n",
       "49016  2021-2022         2        42  5/29/22  None  Real Sociedad B   \n",
       "49017  2021-2022         2        42  5/29/22  None   Sporting Gijón   \n",
       "49018  2021-2022         2        42  5/29/22  None      CD Tenerife   \n",
       "49019  2021-2022         2        42  5/29/22  None  Real Valladolid   \n",
       "\n",
       "             away_team score  \n",
       "0      Athletic Madrid   2:3  \n",
       "1           Real Unión   3:2  \n",
       "2            Catalunya   5:0  \n",
       "3             Athletic   1:1  \n",
       "4            Barcelona   0:2  \n",
       "...                ...   ...  \n",
       "49015         UD Ibiza  None  \n",
       "49016    Real Zaragoza  None  \n",
       "49017    UD Las Palmas  None  \n",
       "49018     FC Cartagena  None  \n",
       "49019        SD Huesca  None  \n",
       "\n",
       "[49020 rows x 8 columns]"
      ]
     },
     "execution_count": 27,
     "metadata": {},
     "output_type": "execute_result"
    }
   ],
   "source": [
    "cn = sqlite3.connect('../laliga.sqlite')\n",
    "df = pd.read_sql_query(\"SELECT * FROM Matches\", cn)\n",
    "df_aux = df\n",
    "df_aux"
   ]
  },
  {
   "cell_type": "code",
   "execution_count": 3,
   "id": "f622b7b3",
   "metadata": {},
   "outputs": [
    {
     "name": "stdout",
     "output_type": "stream",
     "text": [
      "          season  division  matchday        date  time        home_team  \\\n",
      "0      1928-1929         1         1  1929-02-10  None      Arenas Club   \n",
      "1      1928-1929         1         1  1929-02-10  None         Espanyol   \n",
      "2      1928-1929         1         1  1929-02-10  None      Real Madrid   \n",
      "3      1928-1929         1         1  1929-02-10  None         Donostia   \n",
      "4      1928-1929         1         1  1929-02-12  None           Racing   \n",
      "...          ...       ...       ...         ...   ...              ...   \n",
      "49015  2021-2022         2        42  1922-05-29  None      Real Oviedo   \n",
      "49016  2021-2022         2        42  1922-05-29  None  Real Sociedad B   \n",
      "49017  2021-2022         2        42  1922-05-29  None   Sporting Gijón   \n",
      "49018  2021-2022         2        42  1922-05-29  None      CD Tenerife   \n",
      "49019  2021-2022         2        42  1922-05-29  None  Real Valladolid   \n",
      "\n",
      "             away_team score  \n",
      "0      Athletic Madrid   2:3  \n",
      "1           Real Unión   3:2  \n",
      "2            Catalunya   5:0  \n",
      "3             Athletic   1:1  \n",
      "4            Barcelona   0:2  \n",
      "...                ...   ...  \n",
      "49015         UD Ibiza  None  \n",
      "49016    Real Zaragoza  None  \n",
      "49017    UD Las Palmas  None  \n",
      "49018     FC Cartagena  None  \n",
      "49019        SD Huesca  None  \n",
      "\n",
      "[49020 rows x 8 columns]\n"
     ]
    }
   ],
   "source": [
    "def fix_date(date): \n",
    "    if date.year > 2021:\n",
    "        year = date.year - 100\n",
    "    else:\n",
    "        year = date.year\n",
    "    return datetime.date(int(year),date.month,date.day)\n",
    "#change date format\n",
    "df_aux['date'] = pd.to_datetime(df_aux['date']).dt.date\n",
    "#fix date\n",
    "df_aux['date'] = df_aux['date'].apply(fix_date)\n",
    "print(df_aux)"
   ]
  },
  {
   "cell_type": "code",
   "execution_count": 4,
   "id": "8f23b344",
   "metadata": {},
   "outputs": [],
   "source": [
    "# Search for the winner team\n",
    "def parse_score(score):\n",
    "    w = ''\n",
    "    if score:\n",
    "        score = score.split(':')\n",
    "        if score[0] > score[1]:\n",
    "            w = 1\n",
    "        elif score[0] < score[1]:\n",
    "            w = 2\n",
    "        elif score[0] == score[1]:\n",
    "            w = 0\n",
    "    else:\n",
    "        w = 'Unknown'\n",
    "    return w\n",
    "\n",
    "# Match results\n",
    "scores = df_aux['score'].values\n",
    "scores = [x.split(':') if x else [-1, -1] for x in scores]\n",
    "df_aux['Result'] = df_aux['score'].apply(parse_score)"
   ]
  },
  {
   "cell_type": "code",
   "execution_count": 5,
   "id": "cb78fdd2",
   "metadata": {},
   "outputs": [],
   "source": [
    "#Home goals and away goals\n",
    "home_goals = []\n",
    "away_goals = []\n",
    "for scored_goals in scores:\n",
    "    home_goals.append(scored_goals[0])\n",
    "    away_goals.append(scored_goals[1])\n",
    "df_aux['home_goals'] = pd.to_numeric(home_goals)\n",
    "df_aux['away_goals'] = pd.to_numeric(away_goals)"
   ]
  },
  {
   "cell_type": "code",
   "execution_count": 6,
   "id": "406e90b4",
   "metadata": {},
   "outputs": [],
   "source": [
    "# Goal difference\n",
    "df_aux['goal_difference'] = abs(df_aux['home_goals'] - df_aux['away_goals'])\n",
    "df_aux['total_goals'] = df_aux['home_goals'] + df_aux['away_goals']"
   ]
  },
  {
   "cell_type": "code",
   "execution_count": 7,
   "id": "d05d50c2",
   "metadata": {},
   "outputs": [],
   "source": [
    "#Assigning values to each team in order of aparison (encode the label)\n",
    "teams = df_aux['home_team'].drop_duplicates().values\n",
    "df_aux['home_id'] = 0\n",
    "df_aux['away_id'] = 0\n",
    "df_aux\n",
    "for i in range(len(teams)):\n",
    "    df_aux.loc[df_aux['home_team'] == teams[i], ['home_id']] = i\n",
    "    df_aux.loc[df_aux['away_team'] == teams[i], ['away_id']] = i\n",
    "\n",
    "#droping unknown\n",
    "df_aux = df_aux.mask(df_aux.eq('Unknown')).dropna(subset=['Result'])\n",
    "df_aux = df_aux.mask(df_aux.eq('Unknown')).dropna(subset=['date'])\n",
    "df_aux.reset_index(drop=True, inplace=True) #reset index after droping the unknown"
   ]
  },
  {
   "cell_type": "markdown",
   "id": "3cc52f9b",
   "metadata": {},
   "source": [
    "### SEARCH FOR FEATURES"
   ]
  },
  {
   "cell_type": "markdown",
   "id": "62a7b698",
   "metadata": {},
   "source": [
    "To be able to predict what will happen in a match it is necessary to look for variables (features) that will be available before the match takes place. This features can be obtained with some means of variables of the last matches. By this way when a team plays on December 3 2020, for example, the code will provide a mean of all the variables available of some of the matches before that one."
   ]
  },
  {
   "cell_type": "markdown",
   "id": "905013da",
   "metadata": {},
   "source": [
    "In order to achieve this we have focused on the last direct matches between the two teams facing each other. However, as it is possible that the two teams played a long time ago, we have also looked up the last matches played by each team separately."
   ]
  },
  {
   "cell_type": "markdown",
   "id": "d0b69406",
   "metadata": {},
   "source": [
    "As we will not have data from previous matches for some teams, we will also have to drop the unknown or missing values."
   ]
  },
  {
   "cell_type": "code",
   "execution_count": 8,
   "id": "a8873049",
   "metadata": {},
   "outputs": [],
   "source": [
    "# new columns for features\n",
    "\n",
    "#last direct matches\n",
    "df_aux['FHG_dm'] = np.nan #Feature home goals (last direct matches)\n",
    "df_aux['FAG_dm'] = np.nan #Feature away goals (last direct matches)\n",
    "df_aux['FTG_dm'] = np.nan #Feature total goals (last direct matches)\n",
    "df_aux['FDG_dm'] = np.nan #Feature difference goals (last direct matches)\n",
    "df_aux['VHT_dm'] = np.nan #victories home team ( last direct matches)\n",
    "df_aux['VAT_dm'] = np.nan #victories away team ( last direct matches)\n",
    "\n",
    "#last matches of each team\n",
    "df_aux['FHG'] = np.nan #Feature home goals (last matches)\n",
    "df_aux['FAG'] = np.nan #Feature away goals (last matches)\n",
    "df_aux['VHT'] = np.nan #victories home team ( last matches)\n",
    "df_aux['VAT'] = np.nan #victories away team ( last matches)"
   ]
  },
  {
   "cell_type": "code",
   "execution_count": 9,
   "id": "5de48e74",
   "metadata": {},
   "outputs": [],
   "source": [
    "def last_aux(row, num, dict_teams):\n",
    "    h_t = row['home_id']\n",
    "    a_t = row['away_id']\n",
    "    date = row['date']\n",
    "    \n",
    "    #get all matches of each team\n",
    "    matches_h = dict_teams[h_t]\n",
    "    matches_a = dict_teams[a_t]\n",
    "    \n",
    "    #get last matches of each team\n",
    "    last_matches_h = matches_h[matches_h['date'] < date].sort_values(by = 'date', ascending = False).iloc[0:num,:]\n",
    "    last_matches_a = matches_a[matches_a['date'] < date].sort_values(by = 'date', ascending = False).iloc[0:num,:]\n",
    "    \n",
    "    if ((len(last_matches_h) == num) and (len(last_matches_a) == num)):\n",
    "        \n",
    "        #column of away goals, home goals, home victories, away victories\n",
    "        team_home_hg = last_matches_h['home_goals'][last_matches_h['home_id'] == h_t].sum() \n",
    "        team_home_ag = last_matches_h['away_goals'][last_matches_h['away_id'] == h_t].sum()\n",
    "        team_away_hg = last_matches_a['home_goals'][last_matches_a['home_id'] == a_t].sum()\n",
    "        team_away_ag = last_matches_a['away_goals'][last_matches_a['away_id'] == a_t].sum()\n",
    "        \n",
    "        team_home_vh= (last_matches_h['Result'] == 1)[last_matches_h['home_id'] == h_t].sum(axis=0)\n",
    "        team_home_va= (last_matches_h['Result'] == 2)[last_matches_h['away_id'] == h_t].sum(axis=0)\n",
    "        team_away_vh= (last_matches_a['Result'] == 2)[last_matches_a['away_id'] == a_t].sum(axis=0)\n",
    "        team_away_va= (last_matches_a['Result'] == 1)[last_matches_a['home_id'] == a_t].sum(axis=0)\n",
    "        \n",
    "        row['FHG'] = int(team_home_hg + team_home_ag)\n",
    "        row['FAG'] = int(team_away_hg + team_away_ag)\n",
    "        row['VHT'] = int(team_home_vh + team_home_va)\n",
    "        row['VAT'] = int(team_away_vh + team_away_va)\n",
    "    return row\n",
    "\n",
    "\n",
    "# This function gets some features for the last num matches for each team\n",
    "def last_matches_opt(df, num):\n",
    "    dict_teams = {}\n",
    "    for team in df['home_id'].unique():\n",
    "        dict_teams[team] = df[(df['home_id'] == team) | (df['away_id'] == team)]\n",
    "\n",
    "    return df.apply(lambda row: last_aux(row, num, dict_teams), axis=1)"
   ]
  },
  {
   "cell_type": "code",
   "execution_count": 10,
   "id": "3c0c5476",
   "metadata": {},
   "outputs": [],
   "source": [
    "def last_dir_aux(row, num, dict_teams):\n",
    "    h_t = row['home_id']\n",
    "    a_t = row['away_id']\n",
    "    date = row['date']\n",
    "\n",
    "    matches_h = dict_teams[h_t]\n",
    "    matches_a = dict_teams[a_t]\n",
    "    matches_all = pd.concat([matches_h, matches_a])\n",
    "    \n",
    "    #get last matches of direct matches\n",
    "    last_matches = matches_all[matches_all['date'] < date].sort_values(by = 'date', ascending = False).iloc[0:num,:]\n",
    "    if (len(last_matches) == num):\n",
    "        # column of away goals, home goals, home victories, away victories\n",
    "        total_goals = last_matches['total_goals'].sum()\n",
    "        diff_goals = last_matches['goal_difference'].sum()\n",
    "        \n",
    "        team_home_hg = last_matches['home_goals'][last_matches['home_id'] == h_t].sum() \n",
    "        team_home_ag = last_matches['away_goals'][last_matches['away_id'] == h_t].sum()\n",
    "        team_away_hg = last_matches['home_goals'][last_matches['home_id'] == a_t].sum()\n",
    "        team_away_ag = last_matches['away_goals'][last_matches['away_id'] == a_t].sum()\n",
    "        \n",
    "        team_home_vh = (last_matches['Result'] == 1)[last_matches['home_id'] == h_t].sum(axis=0)\n",
    "        team_home_va = (last_matches['Result'] == 2)[last_matches['away_id'] == h_t].sum(axis=0)\n",
    "        team_away_vh = (last_matches['Result'] == 2)[last_matches['away_id'] == a_t].sum(axis=0)\n",
    "        team_away_va = (last_matches['Result'] == 1)[last_matches['home_id'] == a_t].sum(axis=0)\n",
    "        \n",
    "        row['FTG_dm'] = int(total_goals)\n",
    "        row['FDG_dm'] = int(diff_goals)\n",
    "        row['FHG_dm'] = int(team_home_hg + team_home_ag)\n",
    "        row['FAG_dm'] = int(team_away_hg + team_away_ag)\n",
    "        row['VHT_dm'] = int(team_home_vh + team_home_va)\n",
    "        row['VAT_dm'] = int(team_away_vh + team_away_va)\n",
    "        \n",
    "    return row\n",
    "\n",
    "\n",
    "# This function gets some features for the last num matches for each team\n",
    "def last_dir_matches_opt(df, num):\n",
    "    dict_teams = {}\n",
    "    for team in df['home_id'].unique():\n",
    "        dict_teams[team] = df[(df['home_id'] == team) | (df['away_id'] == team)]\n",
    "\n",
    "    return df.apply(lambda row: last_dir_aux(row, num, dict_teams), axis=1)"
   ]
  },
  {
   "cell_type": "code",
   "execution_count": 11,
   "id": "64b75838",
   "metadata": {},
   "outputs": [],
   "source": [
    "df_aux = last_matches_opt(df_aux, 5)\n",
    "df_aux = last_dir_matches_opt(df_aux, 7)"
   ]
  },
  {
   "cell_type": "code",
   "execution_count": 12,
   "id": "2279340f",
   "metadata": {},
   "outputs": [
    {
     "data": {
      "text/html": [
       "<div>\n",
       "<style scoped>\n",
       "    .dataframe tbody tr th:only-of-type {\n",
       "        vertical-align: middle;\n",
       "    }\n",
       "\n",
       "    .dataframe tbody tr th {\n",
       "        vertical-align: top;\n",
       "    }\n",
       "\n",
       "    .dataframe thead th {\n",
       "        text-align: right;\n",
       "    }\n",
       "</style>\n",
       "<table border=\"1\" class=\"dataframe\">\n",
       "  <thead>\n",
       "    <tr style=\"text-align: right;\">\n",
       "      <th></th>\n",
       "      <th>season</th>\n",
       "      <th>division</th>\n",
       "      <th>matchday</th>\n",
       "      <th>date</th>\n",
       "      <th>time</th>\n",
       "      <th>home_team</th>\n",
       "      <th>away_team</th>\n",
       "      <th>score</th>\n",
       "      <th>Result</th>\n",
       "      <th>home_goals</th>\n",
       "      <th>...</th>\n",
       "      <th>FHG_dm</th>\n",
       "      <th>FAG_dm</th>\n",
       "      <th>FTG_dm</th>\n",
       "      <th>FDG_dm</th>\n",
       "      <th>VHT_dm</th>\n",
       "      <th>VAT_dm</th>\n",
       "      <th>FHG</th>\n",
       "      <th>FAG</th>\n",
       "      <th>VHT</th>\n",
       "      <th>VAT</th>\n",
       "    </tr>\n",
       "  </thead>\n",
       "  <tbody>\n",
       "    <tr>\n",
       "      <th>0</th>\n",
       "      <td>1928-1929</td>\n",
       "      <td>1</td>\n",
       "      <td>6</td>\n",
       "      <td>1929-03-24</td>\n",
       "      <td>None</td>\n",
       "      <td>Espanyol</td>\n",
       "      <td>Real Madrid</td>\n",
       "      <td>4:0</td>\n",
       "      <td>1</td>\n",
       "      <td>4</td>\n",
       "      <td>...</td>\n",
       "      <td>7</td>\n",
       "      <td>7</td>\n",
       "      <td>28</td>\n",
       "      <td>18</td>\n",
       "      <td>2</td>\n",
       "      <td>3</td>\n",
       "      <td>10</td>\n",
       "      <td>14</td>\n",
       "      <td>3</td>\n",
       "      <td>5</td>\n",
       "    </tr>\n",
       "    <tr>\n",
       "      <th>1</th>\n",
       "      <td>1928-1929</td>\n",
       "      <td>1</td>\n",
       "      <td>6</td>\n",
       "      <td>1929-03-24</td>\n",
       "      <td>None</td>\n",
       "      <td>Real Unión</td>\n",
       "      <td>Athletic</td>\n",
       "      <td>6:3</td>\n",
       "      <td>1</td>\n",
       "      <td>6</td>\n",
       "      <td>...</td>\n",
       "      <td>8</td>\n",
       "      <td>6</td>\n",
       "      <td>22</td>\n",
       "      <td>10</td>\n",
       "      <td>1</td>\n",
       "      <td>2</td>\n",
       "      <td>10</td>\n",
       "      <td>16</td>\n",
       "      <td>1</td>\n",
       "      <td>3</td>\n",
       "    </tr>\n",
       "    <tr>\n",
       "      <th>2</th>\n",
       "      <td>1928-1929</td>\n",
       "      <td>1</td>\n",
       "      <td>6</td>\n",
       "      <td>1929-03-24</td>\n",
       "      <td>None</td>\n",
       "      <td>Arenas Club</td>\n",
       "      <td>Donostia</td>\n",
       "      <td>3:0</td>\n",
       "      <td>1</td>\n",
       "      <td>3</td>\n",
       "      <td>...</td>\n",
       "      <td>6</td>\n",
       "      <td>5</td>\n",
       "      <td>22</td>\n",
       "      <td>8</td>\n",
       "      <td>1</td>\n",
       "      <td>1</td>\n",
       "      <td>8</td>\n",
       "      <td>9</td>\n",
       "      <td>1</td>\n",
       "      <td>2</td>\n",
       "    </tr>\n",
       "    <tr>\n",
       "      <th>3</th>\n",
       "      <td>1928-1929</td>\n",
       "      <td>1</td>\n",
       "      <td>6</td>\n",
       "      <td>1929-03-24</td>\n",
       "      <td>None</td>\n",
       "      <td>Athletic Madrid</td>\n",
       "      <td>Racing</td>\n",
       "      <td>4:0</td>\n",
       "      <td>1</td>\n",
       "      <td>4</td>\n",
       "      <td>...</td>\n",
       "      <td>7</td>\n",
       "      <td>1</td>\n",
       "      <td>25</td>\n",
       "      <td>17</td>\n",
       "      <td>2</td>\n",
       "      <td>0</td>\n",
       "      <td>10</td>\n",
       "      <td>2</td>\n",
       "      <td>3</td>\n",
       "      <td>0</td>\n",
       "    </tr>\n",
       "    <tr>\n",
       "      <th>4</th>\n",
       "      <td>1928-1929</td>\n",
       "      <td>1</td>\n",
       "      <td>6</td>\n",
       "      <td>1929-03-24</td>\n",
       "      <td>None</td>\n",
       "      <td>Barcelona</td>\n",
       "      <td>Catalunya</td>\n",
       "      <td>5:2</td>\n",
       "      <td>1</td>\n",
       "      <td>5</td>\n",
       "      <td>...</td>\n",
       "      <td>4</td>\n",
       "      <td>4</td>\n",
       "      <td>27</td>\n",
       "      <td>11</td>\n",
       "      <td>0</td>\n",
       "      <td>0</td>\n",
       "      <td>6</td>\n",
       "      <td>9</td>\n",
       "      <td>1</td>\n",
       "      <td>1</td>\n",
       "    </tr>\n",
       "    <tr>\n",
       "      <th>...</th>\n",
       "      <td>...</td>\n",
       "      <td>...</td>\n",
       "      <td>...</td>\n",
       "      <td>...</td>\n",
       "      <td>...</td>\n",
       "      <td>...</td>\n",
       "      <td>...</td>\n",
       "      <td>...</td>\n",
       "      <td>...</td>\n",
       "      <td>...</td>\n",
       "      <td>...</td>\n",
       "      <td>...</td>\n",
       "      <td>...</td>\n",
       "      <td>...</td>\n",
       "      <td>...</td>\n",
       "      <td>...</td>\n",
       "      <td>...</td>\n",
       "      <td>...</td>\n",
       "      <td>...</td>\n",
       "      <td>...</td>\n",
       "      <td>...</td>\n",
       "    </tr>\n",
       "    <tr>\n",
       "      <th>47561</th>\n",
       "      <td>2021-2022</td>\n",
       "      <td>2</td>\n",
       "      <td>3</td>\n",
       "      <td>2021-08-28</td>\n",
       "      <td>5:00 PM</td>\n",
       "      <td>Sporting Gijón</td>\n",
       "      <td>CD Mirandés</td>\n",
       "      <td>2:1</td>\n",
       "      <td>1</td>\n",
       "      <td>2</td>\n",
       "      <td>...</td>\n",
       "      <td>1</td>\n",
       "      <td>2</td>\n",
       "      <td>7</td>\n",
       "      <td>7</td>\n",
       "      <td>1</td>\n",
       "      <td>1</td>\n",
       "      <td>2</td>\n",
       "      <td>3</td>\n",
       "      <td>2</td>\n",
       "      <td>1</td>\n",
       "    </tr>\n",
       "    <tr>\n",
       "      <th>47562</th>\n",
       "      <td>2021-2022</td>\n",
       "      <td>2</td>\n",
       "      <td>3</td>\n",
       "      <td>2021-08-28</td>\n",
       "      <td>7:30 PM</td>\n",
       "      <td>Real Oviedo</td>\n",
       "      <td>CD Tenerife</td>\n",
       "      <td>0:0</td>\n",
       "      <td>0</td>\n",
       "      <td>0</td>\n",
       "      <td>...</td>\n",
       "      <td>8</td>\n",
       "      <td>6</td>\n",
       "      <td>20</td>\n",
       "      <td>2</td>\n",
       "      <td>0</td>\n",
       "      <td>1</td>\n",
       "      <td>7</td>\n",
       "      <td>5</td>\n",
       "      <td>0</td>\n",
       "      <td>1</td>\n",
       "    </tr>\n",
       "    <tr>\n",
       "      <th>47563</th>\n",
       "      <td>2021-2022</td>\n",
       "      <td>2</td>\n",
       "      <td>3</td>\n",
       "      <td>2021-08-28</td>\n",
       "      <td>10:00 PM</td>\n",
       "      <td>Ponferradina</td>\n",
       "      <td>Girona</td>\n",
       "      <td>2:1</td>\n",
       "      <td>1</td>\n",
       "      <td>2</td>\n",
       "      <td>...</td>\n",
       "      <td>4</td>\n",
       "      <td>3</td>\n",
       "      <td>12</td>\n",
       "      <td>6</td>\n",
       "      <td>2</td>\n",
       "      <td>1</td>\n",
       "      <td>5</td>\n",
       "      <td>5</td>\n",
       "      <td>2</td>\n",
       "      <td>3</td>\n",
       "    </tr>\n",
       "    <tr>\n",
       "      <th>47564</th>\n",
       "      <td>2021-2022</td>\n",
       "      <td>2</td>\n",
       "      <td>3</td>\n",
       "      <td>2021-08-29</td>\n",
       "      <td>7:30 PM</td>\n",
       "      <td>CD Lugo</td>\n",
       "      <td>Real Valladolid</td>\n",
       "      <td>0:2</td>\n",
       "      <td>2</td>\n",
       "      <td>0</td>\n",
       "      <td>...</td>\n",
       "      <td>5</td>\n",
       "      <td>4</td>\n",
       "      <td>15</td>\n",
       "      <td>5</td>\n",
       "      <td>2</td>\n",
       "      <td>1</td>\n",
       "      <td>6</td>\n",
       "      <td>5</td>\n",
       "      <td>2</td>\n",
       "      <td>1</td>\n",
       "    </tr>\n",
       "    <tr>\n",
       "      <th>47565</th>\n",
       "      <td>2021-2022</td>\n",
       "      <td>2</td>\n",
       "      <td>3</td>\n",
       "      <td>2021-08-29</td>\n",
       "      <td>10:00 PM</td>\n",
       "      <td>Burgos CF</td>\n",
       "      <td>SD Eibar</td>\n",
       "      <td>0:1</td>\n",
       "      <td>2</td>\n",
       "      <td>0</td>\n",
       "      <td>...</td>\n",
       "      <td>0</td>\n",
       "      <td>2</td>\n",
       "      <td>12</td>\n",
       "      <td>8</td>\n",
       "      <td>0</td>\n",
       "      <td>0</td>\n",
       "      <td>1</td>\n",
       "      <td>2</td>\n",
       "      <td>0</td>\n",
       "      <td>0</td>\n",
       "    </tr>\n",
       "  </tbody>\n",
       "</table>\n",
       "<p>47566 rows × 25 columns</p>\n",
       "</div>"
      ],
      "text/plain": [
       "          season  division  matchday        date      time        home_team  \\\n",
       "0      1928-1929         1         6  1929-03-24      None         Espanyol   \n",
       "1      1928-1929         1         6  1929-03-24      None       Real Unión   \n",
       "2      1928-1929         1         6  1929-03-24      None      Arenas Club   \n",
       "3      1928-1929         1         6  1929-03-24      None  Athletic Madrid   \n",
       "4      1928-1929         1         6  1929-03-24      None        Barcelona   \n",
       "...          ...       ...       ...         ...       ...              ...   \n",
       "47561  2021-2022         2         3  2021-08-28   5:00 PM   Sporting Gijón   \n",
       "47562  2021-2022         2         3  2021-08-28   7:30 PM      Real Oviedo   \n",
       "47563  2021-2022         2         3  2021-08-28  10:00 PM     Ponferradina   \n",
       "47564  2021-2022         2         3  2021-08-29   7:30 PM          CD Lugo   \n",
       "47565  2021-2022         2         3  2021-08-29  10:00 PM        Burgos CF   \n",
       "\n",
       "             away_team score  Result  home_goals  ...  FHG_dm  FAG_dm  FTG_dm  \\\n",
       "0          Real Madrid   4:0       1           4  ...       7       7      28   \n",
       "1             Athletic   6:3       1           6  ...       8       6      22   \n",
       "2             Donostia   3:0       1           3  ...       6       5      22   \n",
       "3               Racing   4:0       1           4  ...       7       1      25   \n",
       "4            Catalunya   5:2       1           5  ...       4       4      27   \n",
       "...                ...   ...     ...         ...  ...     ...     ...     ...   \n",
       "47561      CD Mirandés   2:1       1           2  ...       1       2       7   \n",
       "47562      CD Tenerife   0:0       0           0  ...       8       6      20   \n",
       "47563           Girona   2:1       1           2  ...       4       3      12   \n",
       "47564  Real Valladolid   0:2       2           0  ...       5       4      15   \n",
       "47565         SD Eibar   0:1       2           0  ...       0       2      12   \n",
       "\n",
       "       FDG_dm  VHT_dm  VAT_dm  FHG  FAG  VHT  VAT  \n",
       "0          18       2       3   10   14    3    5  \n",
       "1          10       1       2   10   16    1    3  \n",
       "2           8       1       1    8    9    1    2  \n",
       "3          17       2       0   10    2    3    0  \n",
       "4          11       0       0    6    9    1    1  \n",
       "...       ...     ...     ...  ...  ...  ...  ...  \n",
       "47561       7       1       1    2    3    2    1  \n",
       "47562       2       0       1    7    5    0    1  \n",
       "47563       6       2       1    5    5    2    3  \n",
       "47564       5       2       1    6    5    2    1  \n",
       "47565       8       0       0    1    2    0    0  \n",
       "\n",
       "[47566 rows x 25 columns]"
      ]
     },
     "execution_count": 12,
     "metadata": {},
     "output_type": "execute_result"
    }
   ],
   "source": [
    "#droping unknown\n",
    "df_aux = df_aux.mask(df_aux.eq('Unknown')).dropna(subset=['FHG_dm'])\n",
    "df_aux = df_aux.mask(df_aux.eq('Unknown')).dropna(subset=['FHG'])\n",
    "\n",
    "#reset index after droping the unknown\n",
    "df_aux.reset_index(drop=True, inplace=True)\n",
    "\n",
    "df_aux['FHG_dm'] = df_aux['FHG_dm'].astype('int')\n",
    "df_aux['FAG_dm'] = df_aux['FAG_dm'].astype('int')\n",
    "df_aux['FTG_dm'] = df_aux['FTG_dm'].astype('int')\n",
    "df_aux['FDG_dm'] = df_aux['FDG_dm'].astype('int')\n",
    "df_aux['VHT_dm'] = df_aux['VHT_dm'].astype('int')\n",
    "df_aux['VAT_dm'] = df_aux['VAT_dm'].astype('int')\n",
    "df_aux['FHG'] = df_aux['FHG'].astype('int')\n",
    "df_aux['FAG'] = df_aux['FAG'].astype('int')\n",
    "df_aux['VAT'] = df_aux['VAT'].astype('int')\n",
    "df_aux['VHT'] = df_aux['VHT'].astype('int')\n",
    "\n",
    "df_aux"
   ]
  },
  {
   "cell_type": "markdown",
   "id": "ea77fbfd",
   "metadata": {},
   "source": [
    "## 2. FEATURE SELECTION"
   ]
  },
  {
   "cell_type": "markdown",
   "id": "8761b294",
   "metadata": {},
   "source": [
    "All of the features we have found might not be useful in building a machine learning model to make the necessary prediction, moreover, some of the features might even make the predictions worse. For this reason, in this section we will select a subset of relevant features that we will use in our model. "
   ]
  },
  {
   "cell_type": "markdown",
   "id": "f871bdb5",
   "metadata": {},
   "source": [
    "We have decided not to use the home_id and away_id as features because label encoding induces a problem: as it uses number sequencing it can cause a comparison between them, that means that the algorithm can misunderstand the data and think that that it has some kind of order and give more weight to the teams with higher numbers. An alternative to this is doing One-Hot Encoding but due to the amount of teams we have thought that this would not be efficient."
   ]
  },
  {
   "cell_type": "markdown",
   "id": "df3cb29b",
   "metadata": {},
   "source": [
    "In order to do the feature selection we will use different methods:"
   ]
  },
  {
   "cell_type": "code",
   "execution_count": 13,
   "id": "c01f473c",
   "metadata": {},
   "outputs": [],
   "source": [
    "y = df_aux['Result'].astype('int')\n",
    "features = ['FHG_dm','FAG_dm','FTG_dm','FDG_dm','VHT_dm','VAT_dm','FHG','FAG','VHT','VAT']\n",
    "X = df_aux[features].astype('int')\n",
    "num_features = 4"
   ]
  },
  {
   "cell_type": "markdown",
   "id": "cfaf3db3",
   "metadata": {},
   "source": [
    "### Pearson correlation"
   ]
  },
  {
   "cell_type": "markdown",
   "id": "2ca75eb5",
   "metadata": {},
   "source": [
    "We calculate the absolute value of the Pearson's correlation between the target and features which is a number between -1 and 1 that indicates the extent to which two variables are linearly related. This method is a filter-based method.\n",
    "\n",
    "* A value closer to 0 implies weaker correlation (exact 0 implies no correlation)\n",
    "* A value closer to 1 implies stronger positive correlation\n",
    "* A value closer to -1 implies stronger negative correlation\n",
    "\n",
    "We will keep the top n features based on this criterion."
   ]
  },
  {
   "cell_type": "code",
   "execution_count": 14,
   "id": "2c2a388c",
   "metadata": {},
   "outputs": [
    {
     "name": "stdout",
     "output_type": "stream",
     "text": [
      "features selected: ['FDG_dm', 'FTG_dm', 'FAG_dm', 'FAG']\n",
      "correlations of features: [0.004443568030639411, 0.0499019628252969, 0.044693887383203644, 0.03540358099449101, -0.019718081506831544, 0.02970965477771664, 0.006183374557596299, 0.05600736381038405, -0.017376175120757523, 0.03465332647322684]\n"
     ]
    }
   ],
   "source": [
    "def Pearson_select(X, y,num_features):\n",
    "    cor_list = []\n",
    "    feature_name = X.columns.tolist()\n",
    "    # calculate the correlation for each feature\n",
    "    for i in feature_name:\n",
    "        cor = np.corrcoef(X[i], y)[0, 1]\n",
    "        cor_list.append(cor)\n",
    "    # feature name\n",
    "    feature_selection = X.iloc[:,np.argsort(np.abs(cor_list))[-num_features:]].columns.tolist()\n",
    "    # feature selection\n",
    "    cor_support = [True if i in feature_selection else False for i in feature_name]\n",
    "    return cor_list, feature_selection\n",
    "\n",
    "cor_list, feature_selection = Pearson_select(X, y,num_features)\n",
    "print('features selected:', feature_selection)\n",
    "print('correlations of features:', cor_list)"
   ]
  },
  {
   "cell_type": "markdown",
   "id": "816e8ecc",
   "metadata": {},
   "source": [
    "### Chi-Square"
   ]
  },
  {
   "cell_type": "markdown",
   "id": "46a9d219",
   "metadata": {},
   "source": [
    "This is another filter-based method. In this method, we calculate the chi-square metric between the target and the numerical variable and we select the variables with the maximum chi-squared values."
   ]
  },
  {
   "cell_type": "code",
   "execution_count": 15,
   "id": "88b38dda",
   "metadata": {},
   "outputs": [
    {
     "name": "stdout",
     "output_type": "stream",
     "text": [
      "4 selected features\n",
      "['VHT_dm', 'FHG', 'VHT', 'VAT']\n"
     ]
    }
   ],
   "source": [
    "X_norm = MinMaxScaler().fit_transform(X)\n",
    "chi_selector = SelectKBest(chi2, k=num_features)\n",
    "chi_selector.fit(X_norm, y)\n",
    "chi_support = chi_selector.get_support()\n",
    "chi_feature = X.loc[:,chi_support].columns.tolist()\n",
    "print(str(len(chi_feature)), 'selected features')\n",
    "print(chi_feature)"
   ]
  },
  {
   "cell_type": "markdown",
   "id": "1efef45a",
   "metadata": {},
   "source": [
    "### Recursive Feature Elimination"
   ]
  },
  {
   "cell_type": "markdown",
   "id": "3470f03d",
   "metadata": {},
   "source": [
    "This is a wrapper based method which consist on selecting features by recursively considering smaller and smaller sets of features. First, the estimator is trained on the initial set of features. Then, the least important ones are eliminated from the current set. That procedure is recursively repeated until the desired number of features is reached. In this case we have used Logistic Regression as the estimator because it is the model we will use."
   ]
  },
  {
   "cell_type": "code",
   "execution_count": 16,
   "id": "eb0c7cbb",
   "metadata": {},
   "outputs": [
    {
     "name": "stdout",
     "output_type": "stream",
     "text": [
      "Fitting estimator with 10 features.\n",
      "selected features: 4\n",
      "['FAG_dm', 'FDG_dm', 'FHG', 'FAG']\n"
     ]
    }
   ],
   "source": [
    "rfe_selector = RFE(estimator=LogisticRegression(multi_class='ovr', max_iter=500,class_weight=\"balanced\"), n_features_to_select=num_features, step=30, verbose=5)\n",
    "rfe_selector.fit(X_norm, y)\n",
    "rfe_support = rfe_selector.get_support()\n",
    "rfe_feature = X.loc[:,rfe_support].columns.tolist()\n",
    "print('selected features:',str(len(rfe_feature)))\n",
    "print(rfe_feature)"
   ]
  },
  {
   "cell_type": "markdown",
   "id": "010b04b8",
   "metadata": {},
   "source": [
    "# 3. SPLIT DATA"
   ]
  },
  {
   "cell_type": "markdown",
   "id": "3869e72c",
   "metadata": {},
   "source": [
    "In order to run the model we have splited the data randomly using the library ”train test split” from scikit-learn. For the test, it was used 20% of the data. "
   ]
  },
  {
   "cell_type": "code",
   "execution_count": 17,
   "id": "bebc8ccf",
   "metadata": {},
   "outputs": [
    {
     "name": "stdout",
     "output_type": "stream",
     "text": [
      "X_train shape: (38052, 4)\n",
      "X_test shape: (9514, 4)\n",
      "y_train shape: (38052,)\n",
      "y_test shape: (9514,)\n"
     ]
    }
   ],
   "source": [
    "features = ['FHG_dm', 'FAG_dm', 'FHG', 'FAG']\n",
    "target = 'Result'\n",
    "X = df_aux[features]\n",
    "y = df_aux[target]\n",
    "#split\n",
    "X_train, X_test, y_train, y_test = train_test_split(X, y, test_size=0.2, random_state=1)\n",
    "X_train = X_train.astype('int')\n",
    "X_test = X_test.astype('int')\n",
    "y_train = y_train.astype('int')\n",
    "y_test = y_test.astype('int')\n",
    "#size\n",
    "print(f\"X_train shape: {X_train.shape}\")\n",
    "print(f\"X_test shape: {X_test.shape}\")\n",
    "print(f\"y_train shape: {y_train.shape}\")\n",
    "print(f\"y_test shape: {y_test.shape}\")"
   ]
  },
  {
   "cell_type": "markdown",
   "id": "a7efc58f",
   "metadata": {},
   "source": [
    "# 4. MODEL AND METRICS"
   ]
  },
  {
   "cell_type": "markdown",
   "id": "0d6c2977",
   "metadata": {},
   "source": [
    "When we have started training the model we have faced with a problem: the data was unbalanced. When that happens, the algorithm learns that a particular class is more common, making it “natural” to have a tendency towards it because just by predicting the majority class, models would score high on accuracy. However, when this happens you do not have a good model, you have a model that assigns the same class to all the observations and does not generalize well.\n",
    "\n",
    "In order to fix this, we have decided to use a penalized model. Usually, algorithms treat all misclassifications in the same way, so the idea is to penalize misclassifications from the minority class more than the majority. These penalties help the model improve the attention given to the minority class."
   ]
  },
  {
   "cell_type": "markdown",
   "id": "ba9d7882",
   "metadata": {},
   "source": [
    "To evaluate the model we need to choose a metric. When the data is unbalanced it isn't a good idea to use accuracy as a metric. For this reason we will also use precision, recall and F1-Score (a combination of both recall and precision). \n",
    "* Precision: How accurate the positive predictions are\n",
    "* Recall: Coverage of actual positive sample\n",
    "    \n"
   ]
  },
  {
   "cell_type": "code",
   "execution_count": 18,
   "id": "4988dc35",
   "metadata": {},
   "outputs": [],
   "source": [
    "#General function that trains a model and makes the predictions\n",
    "def train_test(model, X_train, y_train, X_test, y_test):\n",
    "    from sklearn import metrics\n",
    "    #TRAIN\n",
    "    start = time()\n",
    "    model.fit(X_train, y_train)\n",
    "    end = time()\n",
    "    t = end - start\n",
    "    print(\"The model has been trained in {:2f} seconds\".format(t))\n",
    "    \n",
    "    #PREDICTIONS\n",
    "    start = time()\n",
    "    y_pred = model.predict(X_test)\n",
    "    end = time()\n",
    "    t = end - start\n",
    "    print(\"The predictions have been made in {:2f} seconds\".format(t))\n",
    "    \n",
    "    #METRICS\n",
    "    labels = ['Tie', 'Home win', 'Away Win']\n",
    "    print(metrics.classification_report(y_test, y_pred, target_names=labels))\n",
    "    print(\"F1 Score: \", metrics.f1_score(y_test, y_pred, average='macro'))\n",
    "    print(\"Accuracy: \", metrics.accuracy_score(y_test, y_pred))\n",
    "    print(\"Recall: \", metrics.recall_score(y_test, y_pred, average='macro'))\n",
    "    print(\"Precision: \", metrics.precision_score(y_test, y_pred, average='macro'))\n",
    "    \n",
    "    return y_pred\n",
    "    "
   ]
  },
  {
   "cell_type": "markdown",
   "id": "1bb77980",
   "metadata": {},
   "source": [
    "### Logistic Regression"
   ]
  },
  {
   "cell_type": "markdown",
   "id": "c56f48be",
   "metadata": {},
   "source": [
    "The chosen model has been logistic regression which uses an equation as the representation, very much like linear regression, where the inputs are combined linearly using weights or coefficient values to predict an output value. Logistic regressions are binary classifiers, that means that they can't handle outputs with more than two classes. In our problem, as we have 3 classes, we have used an extension, one-vs-rest logistic regression (OVR), which assumes that each classification problem is independent.  In one-vs-rest logistic regression a separate model is trained for each class predicted whether an observation is that class or not (thus making it a binary classification problem)."
   ]
  },
  {
   "cell_type": "code",
   "execution_count": 19,
   "id": "a808c4a4",
   "metadata": {},
   "outputs": [],
   "source": [
    "lr = LogisticRegression(multi_class='ovr', max_iter=300,class_weight=\"balanced\")"
   ]
  },
  {
   "cell_type": "code",
   "execution_count": 20,
   "id": "0378111c",
   "metadata": {},
   "outputs": [
    {
     "name": "stdout",
     "output_type": "stream",
     "text": [
      "Logistic Regression:\n",
      "The model has been trained in 0.172222 seconds\n",
      "The predictions have been made in 0.054860 seconds\n",
      "              precision    recall  f1-score   support\n",
      "\n",
      "         Tie       0.28      0.31      0.29      2417\n",
      "    Home win       0.58      0.45      0.50      5006\n",
      "    Away Win       0.27      0.39      0.32      2091\n",
      "\n",
      "    accuracy                           0.40      9514\n",
      "   macro avg       0.38      0.38      0.37      9514\n",
      "weighted avg       0.44      0.40      0.41      9514\n",
      "\n",
      "F1 Score:  0.37176426249692324\n",
      "Accuracy:  0.39846541938196345\n",
      "Recall:  0.38030781792265994\n",
      "Precision:  0.3764806476319768\n"
     ]
    }
   ],
   "source": [
    "print(\"Logistic Regression:\")\n",
    "y_pred_lr = train_test(lr, X_train, y_train, X_test, y_test)"
   ]
  },
  {
   "cell_type": "markdown",
   "id": "96a528d1",
   "metadata": {},
   "source": [
    "# 5. ANALYSIS OF THE RESULTS"
   ]
  },
  {
   "cell_type": "markdown",
   "id": "4d14e1a4",
   "metadata": {},
   "source": [
    "### Confusion_matrix"
   ]
  },
  {
   "cell_type": "code",
   "execution_count": 21,
   "id": "bc1f0d62",
   "metadata": {},
   "outputs": [
    {
     "data": {
      "image/png": "[encoded data removed]",
      "text/plain": [
       "<Figure size 576x432 with 2 Axes>"
      ]
     },
     "metadata": {
      "needs_background": "light"
     },
     "output_type": "display_data"
    }
   ],
   "source": [
    "#Print Confusion Matrix\n",
    "## PONER EN Y_pred el modelo que quieres!!\n",
    "cm = confusion_matrix(y_test, y_pred_lr)\n",
    "labels = ['Tie', 'Home win', 'Away Win']\n",
    "plt.figure(figsize=(8,6))\n",
    "sns.heatmap(cm, xticklabels=labels, yticklabels=labels, annot=True, fmt='d', cmap=\"Blues\", vmin = 0.2)\n",
    "plt.title('Confusion Matrix')\n",
    "plt.ylabel('True value')\n",
    "plt.xlabel('Prediction')\n",
    "plt.show()"
   ]
  },
  {
   "cell_type": "markdown",
   "id": "5fe054b8",
   "metadata": {},
   "source": [
    "### True result, good prediction, bad prediction"
   ]
  },
  {
   "cell_type": "code",
   "execution_count": 22,
   "id": "553be14f",
   "metadata": {},
   "outputs": [],
   "source": [
    "index = X_test.index\n",
    "df_pred = df_aux.loc[index]\n",
    "df_pred['prediction'] = y_pred_lr\n",
    "columns = ['season','division','matchday','date','home_team','away_team','Result','prediction']\n",
    "df_pred = df_pred[columns]"
   ]
  },
  {
   "cell_type": "code",
   "execution_count": 23,
   "id": "a349423d",
   "metadata": {},
   "outputs": [],
   "source": [
    "result = df_pred['Result'].value_counts()\n",
    "pred = df_pred[['prediction','Result']]\n",
    "good_pred = pred[pred['prediction'] == pred['Result']].value_counts()\n",
    "good_pred.reset_index(drop=True, inplace=True, level='Result')"
   ]
  },
  {
   "cell_type": "code",
   "execution_count": 24,
   "id": "5c527083",
   "metadata": {},
   "outputs": [
    {
     "data": {
      "image/png": "[encoded data removed]",
      "text/plain": [
       "<Figure size 1008x576 with 1 Axes>"
      ]
     },
     "metadata": {
      "needs_background": "light"
     },
     "output_type": "display_data"
    }
   ],
   "source": [
    "bad_pred = pred[(pred['prediction'] != pred['Result'])].groupby('Result').count()\n",
    "bad_pred = bad_pred['prediction']\n",
    "evaluation = pd.concat([bad_pred, good_pred,result], axis=1, \n",
    "                        keys=['Bad Prediction','Good Prediction','True Result']\n",
    "                      ).plot(kind='bar',figsize=(14,8),title=\"Model evaluation\",alpha=0.75, rot=0)"
   ]
  },
  {
   "cell_type": "markdown",
   "id": "155a7685",
   "metadata": {},
   "source": [
    "### Analysis of failures and successes"
   ]
  },
  {
   "cell_type": "code",
   "execution_count": 25,
   "id": "c8ab5c43",
   "metadata": {},
   "outputs": [
    {
     "name": "stdout",
     "output_type": "stream",
     "text": [
      "Result        0     1    2\n",
      "prediction                \n",
      "0           740  1313  548\n",
      "1           898  2242  734\n",
      "2           779  1451  809\n"
     ]
    },
    {
     "data": {
      "image/png": "[encoded data removed]",
      "text/plain": [
       "<Figure size 1008x576 with 1 Axes>"
      ]
     },
     "metadata": {
      "needs_background": "light"
     },
     "output_type": "display_data"
    }
   ],
   "source": [
    "fail_suc = pred[(pred['prediction'] != pred['Result']) | (pred['prediction'] == pred['Result']) ].value_counts()\n",
    "fail_suc = pd.DataFrame(fail_suc)\n",
    "fail_suc = fail_suc.unstack()\n",
    "fail_suc[0].plot(kind='bar',\n",
    "            figsize=(14,8),\n",
    "            title=\"Model evaluation\",alpha=0.75, rot=0)\n",
    "\n",
    "print(fail_suc[0])"
   ]
  },
  {
   "cell_type": "markdown",
   "id": "1cea3f65",
   "metadata": {},
   "source": [
    "# 6. EXPORT MODEL"
   ]
  },
  {
   "cell_type": "markdown",
   "id": "c1a34c9d",
   "metadata": {},
   "source": [
    "This only exports the last model run and the TEST"
   ]
  },
  {
   "cell_type": "code",
   "execution_count": null,
   "id": "6c5e7267",
   "metadata": {},
   "outputs": [],
   "source": [
    "#Replace 0 with X\n",
    "df_pred[['Result','prediction']] = df_pred[['Result','prediction']].astype(str) \n",
    "df_pred[['Result','prediction']] = df_pred[['Result','prediction']].replace('0','X')"
   ]
  },
  {
   "cell_type": "code",
   "execution_count": null,
   "id": "87196de2",
   "metadata": {},
   "outputs": [],
   "source": [
    "shouldExport = input('Do you want to export the model(s) (y / n) ? ')\n",
    "if shouldExport.strip().lower() == 'y':\n",
    "    df_pred.to_excel(\"../models/Predictions.xlsx\")\n",
    "    pickle.dump(lr, open('../models/modelQuiniela.p', \"wb\"))"
   ]
  },
  {
   "cell_type": "code",
   "execution_count": null,
   "id": "58f2736f",
   "metadata": {},
   "outputs": [],
   "source": []
  }
 ],
 "metadata": {
  "kernelspec": {
   "display_name": "Python 3 (ipykernel)",
   "language": "python",
   "name": "python3"
  },
  "language_info": {
   "codemirror_mode": {
    "name": "ipython",
    "version": 3
   },
   "file_extension": ".py",
   "mimetype": "text/x-python",
   "name": "python",
   "nbconvert_exporter": "python",
   "pygments_lexer": "ipython3",
   "version": "3.8.8"
  }
 },
 "nbformat": 4,
 "nbformat_minor": 5
}
